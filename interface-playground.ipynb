{
 "cells": [
  {
   "cell_type": "code",
   "execution_count": null,
   "metadata": {},
   "outputs": [],
   "source": [
    "import pandas as pd\n",
    "\n",
    "from gettsim import main\n",
    "from ttsim import InputData, MainTarget, TTTargets\n",
    "from ttsim.tt_dag_elements import ScalarParam"
   ]
  },
  {
   "cell_type": "markdown",
   "metadata": {},
   "source": [
    "# Prototypes of GETTSIM's new interface\n",
    "\n",
    "[GEP 7](https://gettsim--855.org.readthedocs.build/en/855/geps/gep-07.html) discusses\n",
    "the principles of the new interface. This notebook demonstrates two candidates for\n",
    "GETTIM's new interface. We would like to get your feedback on which one you prefer.\n",
    "\n",
    "In this notebook, we compute income taxes and social security contributions for example\n",
    "data.\n",
    "\n",
    "## Setup\n",
    "\n",
    "This notebook requires to have GETTSIM installed in its current development version.\n",
    "\n",
    "To do this:\n",
    "1. Clone the GETTSIM repository.\n",
    "2. Install the [pixi package manager](https://pixi.sh/latest/) on your system.\n",
    "3. Open your shell, `cd` into the GETTSIM repository and run `git checkout collect-components-of-namespaces`.\n",
    "4. Run `pixi run jupyter-notebook` and select the `interface-playground.ipynb` notebook.\n",
    "\n",
    "If you have trouble with the setup, please reach out."
   ]
  },
  {
   "cell_type": "markdown",
   "metadata": {},
   "source": [
    "## Creating the Data"
   ]
  },
  {
   "cell_type": "markdown",
   "metadata": {},
   "source": [
    "The first step in GETTSIM's new workflow is to define the targets you're interested in.\n",
    "The keys of the nested dictionary below are the paths GETTSIM will use as targets. For\n",
    "instance, via the keys `einkommensteuer` and `betrag_m_sn`, we request the income tax as\n",
    "a target.\n",
    "\n",
    "The values on the lowest level of the dictionaries will be used as the column names of\n",
    "the resulting DataFrame. Here, `income_tax_y` will be the name of the column containing\n",
    "the income tax results.\n",
    "\n",
    "In this example, we are interested in the income tax and the social security contributions\n",
    "paid when being in regular employment."
   ]
  },
  {
   "cell_type": "code",
   "execution_count": null,
   "metadata": {},
   "outputs": [],
   "source": [
    "TT_TARGETS = {\n",
    "    \"einkommensteuer\": {\"betrag_y_sn\": \"income_tax_y\"},\n",
    "    \"sozialversicherung\": {\n",
    "        \"pflege\": {\n",
    "            \"beitrag\": {\n",
    "                \"betrag_versicherter_m\": \"long_term_care_insurance_contribution_m\"\n",
    "            }\n",
    "        },\n",
    "        \"kranken\": {\n",
    "            \"beitrag\": {\"betrag_versicherter_m\": \"health_insurance_contribution_m\"}\n",
    "        },\n",
    "        \"rente\": {\n",
    "            \"beitrag\": {\"betrag_versicherter_m\": \"pension_insurance_contribution_m\"}\n",
    "        },\n",
    "        \"arbeitslosen\": {\n",
    "            \"beitrag\": {\n",
    "                \"betrag_versicherter_m\": \"unemployment_insurance_contribution_m\"\n",
    "            }\n",
    "        },\n",
    "    },\n",
    "}"
   ]
  },
  {
   "cell_type": "markdown",
   "metadata": {},
   "source": [
    "Next, we need to find out which input data we actually need to calculate the targets we\n",
    "are interested in we can do this by specifying a template as `main_target` of `main`.\n",
    "\n",
    "Because we are interested social security contributions paid when being in regular\n",
    "employment, we are not interested in retirees or households dependent on social\n",
    "assistance. We can override these transfers when requesting the template. This removes\n",
    "the input data needed to compute these transfers from the template."
   ]
  },
  {
   "cell_type": "code",
   "execution_count": null,
   "metadata": {},
   "outputs": [],
   "source": [
    "main(\n",
    "    date_str=\"2025-01-01\",\n",
    "    main_target=MainTarget.templates.input_data_dtypes,\n",
    "    tt_targets=TTTargets(\n",
    "        tree=TT_TARGETS,\n",
    "    ),\n",
    "    input_data=InputData.tree(\n",
    "        {\n",
    "            \"p_id\": [0],\n",
    "            \"sozialversicherung\": {\n",
    "                \"rente\": {\n",
    "                    \"altersrente\": {\"betrag_m\": [0.0]},\n",
    "                },\n",
    "                \"arbeitslosen\": {\"betrag_m\": [0.0]},\n",
    "            },\n",
    "            \"wohngeld\": {\"betrag_m_wthh\": [0.0]},\n",
    "            \"kinderzuschlag\": {\"betrag_m_bg\": [0.0]},\n",
    "            \"elterngeld\": {\"betrag_m\": [0.0]},\n",
    "            \"arbeitslosengeld_2\": {\"betrag_m_bg\": [0.0]},\n",
    "        }\n",
    "    ),\n",
    ")"
   ]
  },
  {
   "cell_type": "markdown",
   "metadata": {},
   "source": [
    "Now, we create some example data. Here, we use a pandas DataFrame with column names that are different from the ones GETTSIM expects."
   ]
  },
  {
   "cell_type": "code",
   "execution_count": null,
   "metadata": {},
   "outputs": [],
   "source": [
    "DATA = pd.DataFrame(\n",
    "    {\n",
    "        \"age\": [30, 30, 10],\n",
    "        \"working_hours\": [35, 35, 0],\n",
    "        \"disability_grade\": [0, 0, 0],\n",
    "        \"birth_year\": [1995, 1995, 2015],\n",
    "        \"hh_id\": [0, 0, 0],\n",
    "        \"p_id\": [0, 1, 2],\n",
    "        \"east_germany\": [False, False, False],\n",
    "        \"self_employed\": [False, False, False],\n",
    "        \"income_from_self_employment\": [0, 0, 0],\n",
    "        \"income_from_rent\": [0, 0, 0],\n",
    "        \"income_from_employment\": [5000, 4000, 0],\n",
    "        \"income_from_forest_and_agriculture\": [0, 0, 0],\n",
    "        \"income_from_capital\": [500, 0, 0],\n",
    "        \"income_from_other_sources\": [0, 0, 0],\n",
    "        \"pension_income\": [0, 0, 0],\n",
    "        \"contribution_to_private_pension_insurance\": [0, 0, 0],\n",
    "        \"childcare_expenses\": [0, 0, 0],\n",
    "        \"person_that_pays_childcare_expenses\": [-1, -1, 0],\n",
    "        \"joint_taxation\": [True, True, False],\n",
    "        \"amount_private_pension_income\": [0, 0, 0],\n",
    "        \"contribution_private_health_insurance\": [0, 0, 0],\n",
    "        \"has_children\": [True, True, False],\n",
    "        \"single_parent\": [False, False, False],\n",
    "        \"is_child\": [False, False, True],\n",
    "        \"spouse_id\": [1, 0, -1],\n",
    "        \"parent_id_1\": [-1, -1, 0],\n",
    "        \"parent_id_2\": [-1, -1, 1],\n",
    "        \"in_training\": [False, False, False],\n",
    "        \"id_recipient_child_allowance\": [-1, -1, 0],\n",
    "    }\n",
    ")"
   ]
  },
  {
   "cell_type": "markdown",
   "metadata": {},
   "source": [
    "Next, we define a mapping from GETTSIM's expected input structure to your data. The idea\n",
    "is that you save the template we created above to your disk (e.g. as a yaml file) and\n",
    "edit it there. Then you can read in the file and use its content as the mapper.\n",
    "\n",
    "For convenience, we directly define the mapper below."
   ]
  },
  {
   "cell_type": "code",
   "execution_count": null,
   "metadata": {},
   "outputs": [],
   "source": [
    "MAPPER = {\n",
    "    \"alter\": \"age\",\n",
    "    \"arbeitsstunden_w\": \"working_hours\",\n",
    "    \"behinderungsgrad\": \"disability_grade\",\n",
    "    \"geburtsjahr\": \"birth_year\",\n",
    "    \"hh_id\": \"hh_id\",\n",
    "    \"p_id\": \"p_id\",\n",
    "    \"wohnort_ost\": \"east_germany\",\n",
    "    \"einkommensteuer\": {\n",
    "        \"einkünfte\": {\n",
    "            \"ist_selbstständig\": \"self_employed\",\n",
    "            \"aus_gewerbebetrieb\": {\"betrag_m\": \"income_from_self_employment\"},\n",
    "            \"aus_vermietung_und_verpachtung\": {\"betrag_m\": \"income_from_rent\"},\n",
    "            \"aus_nichtselbstständiger_arbeit\": {\n",
    "                \"bruttolohn_m\": \"income_from_employment\"\n",
    "            },\n",
    "            \"aus_forst_und_landwirtschaft\": {\n",
    "                \"betrag_m\": \"income_from_forest_and_agriculture\"\n",
    "            },\n",
    "            \"aus_selbstständiger_arbeit\": {\"betrag_m\": \"income_from_self_employment\"},\n",
    "            \"aus_kapitalvermögen\": {\"kapitalerträge_m\": \"income_from_capital\"},\n",
    "            \"sonstige\": {\n",
    "                \"ohne_renten_m\": \"income_from_other_sources\",\n",
    "                \"renteneinkünfte_m\": \"pension_income\",\n",
    "            },\n",
    "        },\n",
    "        \"abzüge\": {\n",
    "            \"beitrag_private_rentenversicherung_m\": \"contribution_to_private_pension_insurance\",  # noqa: E501\n",
    "            \"kinderbetreuungskosten_m\": \"childcare_expenses\",\n",
    "            \"p_id_kinderbetreuungskostenträger\": \"person_that_pays_childcare_expenses\",\n",
    "        },\n",
    "        \"gemeinsam_veranlagt\": \"joint_taxation\",\n",
    "    },\n",
    "    \"sozialversicherung\": {\n",
    "        \"arbeitslosen\": {\"betrag_m\": 0.0},\n",
    "        \"rente\": {\n",
    "            \"private_rente_betrag_m\": \"amount_private_pension_income\",\n",
    "            \"altersrente\": {\n",
    "                \"betrag_m\": 0.0,\n",
    "            },\n",
    "        },\n",
    "        \"kranken\": {\n",
    "            \"beitrag\": {\"privat_versichert\": \"contribution_private_health_insurance\"}\n",
    "        },\n",
    "        \"pflege\": {\"beitrag\": {\"hat_kinder\": \"has_children\"}},\n",
    "    },\n",
    "    \"familie\": {\n",
    "        \"alleinerziehend\": \"single_parent\",\n",
    "        \"kind\": \"is_child\",\n",
    "        \"p_id_ehepartner\": \"spouse_id\",\n",
    "        \"p_id_elternteil_1\": \"parent_id_1\",\n",
    "        \"p_id_elternteil_2\": \"parent_id_2\",\n",
    "    },\n",
    "    \"wohngeld\": {\n",
    "        \"betrag_m_wthh\": 0.0,\n",
    "    },\n",
    "    \"kinderzuschlag\": {\n",
    "        \"betrag_m_bg\": 0.0,\n",
    "    },\n",
    "    \"elterngeld\": {\n",
    "        \"betrag_m\": 0.0,\n",
    "    },\n",
    "    \"arbeitslosengeld_2\": {\n",
    "        \"betrag_m_bg\": 0.0,\n",
    "    },\n",
    "    \"kindergeld\": {\n",
    "        \"in_ausbildung\": \"in_training\",\n",
    "        \"p_id_empfänger\": \"id_recipient_child_allowance\",\n",
    "    },\n",
    "}"
   ]
  },
  {
   "cell_type": "markdown",
   "metadata": {},
   "source": [
    "Note: When writing and reading the template to your disk, don't forget to allow for\n",
    "unicode characters. This is important because many transfers have Umlaute in their\n",
    "names. An example could look like this:\n",
    "\n",
    "```python\n",
    "import yaml\n",
    "\n",
    "# Write the template to your disk...\n",
    "with PATH_FOR_TEMPLATE.open(\"w\") as f:\n",
    "    yaml.dump(TEMPLATE, f, allow_unicode=True)\n",
    "\n",
    "# Edit the leafs in the template and then read it back in\n",
    "with PATH_FOR_TEMPLATE.open(\"r\") as f:\n",
    "    MAPPER = {yaml.load(f, allow_unicode=True)}\n",
    "```"
   ]
  },
  {
   "cell_type": "markdown",
   "metadata": {},
   "source": [
    "## Using GETTSIM's interface\n",
    "\n",
    "Just as for taxes and transfers, GETTSIM's infrastructure is a DAG. GETTSIM's interface\n",
    "is a function that allows you to interact with this DAG. This comes with the\n",
    "advantages GETTSIM's users already know from the taxes and transfers part:\n",
    "- Users can select any part of the DAG as a target. This means that users can access\n",
    "  any intermediate objects.\n",
    "- Users can feed any part of the DAG as input. This means that users can overwrite\n",
    "  specific parts of the DAG (e.g. the policy environment).\n",
    "- Users can decide which parts of the DAG not to compute. For example, users can choose\n",
    "  not to perform safety checks on the input data. This means that GETTSIM is quicker in\n",
    "  computing the result (at the expense of informative errors).\n",
    "\n",
    "First, we look at the one-stop shop: computing the targets defined above using the input\n",
    "data. In a second example, we manipulate the policy environment to see why the interface\n",
    "DAG is useful.\n",
    "\n",
    "### One-stop-shop: Computing taxes and transfers with GETTSIM\n",
    "\n",
    "Let's calculate taxes and transfers first:"
   ]
  },
  {
   "cell_type": "code",
   "execution_count": null,
   "metadata": {},
   "outputs": [],
   "source": [
    "result = main(\n",
    "    date_str=\"2025-01-01\",\n",
    "    input_data=InputData.df_and_mapper(\n",
    "        df=DATA,\n",
    "        mapper=MAPPER,\n",
    "    ),\n",
    "    main_target=MainTarget.results.df_with_mapper,\n",
    "    tt_targets=TTTargets(\n",
    "        tree=TT_TARGETS,\n",
    "    ),\n",
    ")\n",
    "result.T"
   ]
  },
  {
   "cell_type": "markdown",
   "metadata": {},
   "source": [
    "### Manipulating the policy environment\n",
    "\n",
    "First, we obtain the policy environment for the policy date we're interested in. Similar\n",
    "to above, we have to call the `main` function."
   ]
  },
  {
   "cell_type": "code",
   "execution_count": null,
   "metadata": {},
   "outputs": [],
   "source": [
    "original_policy_environment = main(\n",
    "    date_str=\"2025-01-01\",\n",
    "    main_target=MainTarget.policy_environment,\n",
    ")"
   ]
  },
  {
   "cell_type": "markdown",
   "metadata": {},
   "source": [
    "Now, we slightly modify the policy environment. In this simple example, we increase the\n",
    "contribution rate of the public pension insurance by 1 percentage point.\n",
    "\n",
    "The contribution rate is a `ScalarParam` object:"
   ]
  },
  {
   "cell_type": "code",
   "execution_count": null,
   "metadata": {},
   "outputs": [],
   "source": [
    "type(\n",
    "    original_policy_environment[\"sozialversicherung\"][\"rente\"][\"beitrag\"][\n",
    "        \"beitragssatz\"\n",
    "    ]\n",
    ")"
   ]
  },
  {
   "cell_type": "markdown",
   "metadata": {},
   "source": [
    "We replace the `ScalarParam` object with a new one. Then, we add this parameter to the\n",
    "new policy environment."
   ]
  },
  {
   "cell_type": "code",
   "execution_count": null,
   "metadata": {},
   "outputs": [],
   "source": [
    "old_beitragssatz = original_policy_environment[\"sozialversicherung\"][\"rente\"][\n",
    "    \"beitrag\"\n",
    "][\"beitragssatz\"]\n",
    "new_beitragssatz = ScalarParam(value=old_beitragssatz.value + 0.01)\n",
    "\n",
    "modified_policy_environment = original_policy_environment.copy()\n",
    "modified_policy_environment[\"sozialversicherung\"][\"rente\"][\"beitrag\"][\n",
    "    \"beitragssatz\"\n",
    "] = new_beitragssatz"
   ]
  },
  {
   "cell_type": "markdown",
   "metadata": {},
   "source": [
    "Now we can compute taxes and transfers using the modified policy environment."
   ]
  },
  {
   "cell_type": "code",
   "execution_count": null,
   "metadata": {},
   "outputs": [],
   "source": [
    "result = main(\n",
    "    date_str=\"2025-01-01\",\n",
    "    policy_environment=modified_policy_environment,\n",
    "    input_data=InputData.df_and_mapper(\n",
    "        df=DATA,\n",
    "        mapper=MAPPER,\n",
    "    ),\n",
    "    main_target=MainTarget.results.df_with_mapper,\n",
    "    tt_targets=TTTargets(\n",
    "        tree=TT_TARGETS,\n",
    "    ),\n",
    ")\n",
    "result.T"
   ]
  },
  {
   "cell_type": "code",
   "execution_count": null,
   "metadata": {},
   "outputs": [],
   "source": [
    "tt_function = main(\n",
    "    date_str=\"2025-01-01\",\n",
    "    input_data=InputData.df_and_mapper(\n",
    "        df=DATA,\n",
    "        mapper=MAPPER,\n",
    "    ),\n",
    "    main_target=MainTarget.specialized_environment.tax_transfer_function,\n",
    "    tt_targets=TTTargets(\n",
    "        tree=TT_TARGETS,\n",
    "    ),\n",
    ")"
   ]
  },
  {
   "cell_type": "code",
   "execution_count": null,
   "metadata": {},
   "outputs": [],
   "source": []
  }
 ],
 "metadata": {
  "language_info": {
   "codemirror_mode": {
    "name": "ipython",
    "version": 3
   },
   "file_extension": ".py",
   "mimetype": "text/x-python",
   "name": "python",
   "nbconvert_exporter": "python",
   "pygments_lexer": "ipython3"
  }
 },
 "nbformat": 4,
 "nbformat_minor": 2
}
