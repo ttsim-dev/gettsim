{
 "cells": [
  {
   "cell_type": "code",
   "execution_count": null,
   "id": "0",
   "metadata": {},
   "outputs": [],
   "source": [
    "from pathlib import Path\n",
    "\n",
    "import numpy as np\n",
    "\n",
    "from gettsim import main\n",
    "from ttsim import InputData, MainTarget, copy_environment\n",
    "\n",
    "GETTSIM_ROOT = Path.cwd().parent.parent / \"src\" / \"_gettsim\""
   ]
  },
  {
   "cell_type": "markdown",
   "id": "1",
   "metadata": {},
   "source": [
    "# Modifying Taxes and Transfers\n",
    "\n",
    "GETTSIM's design allows you to go beyond the depiction of the current (or historical)\n",
    "tax and transfer system. Analyzing counterfactual reform scenarios, ranging from small\n",
    "changes of certain parameters of the tax and transfer system, to the introduction of\n",
    "large-scale reforms, is a common use case.\n",
    "\n",
    "This tutorial showcases how to modify the calculation of taxes and transfers when using\n",
    "GETTSIM.\n",
    "\n",
    "Here, we focus on small reforms to the means-tested social welfare benefits for\n",
    "the unemployed (German: Bürgergeld; until 2022: Arbeitslosengeld II). We pick this\n",
    "example because Bürgergeld is a fairly complex system that uses the entire range of\n",
    "objects TTSIM offers."
   ]
  },
  {
   "cell_type": "markdown",
   "id": "2",
   "metadata": {},
   "source": [
    "## Status Quo\n",
    "\n",
    "Before modifying taxes and transfers, it's important to understand how GETTSIM\n",
    "represents the current tax and transfer system. The core of GETTSIM's implementation is\n",
    "the **policy environment** - a comprehensive data structure that contains everything\n",
    "needed to compute taxes and transfers for a specific date.\n",
    "\n",
    "### What is a Policy Environment?\n",
    "\n",
    "A policy environment is a nested dictionary that holds all the parameters and functions\n",
    "needed to calculate taxes and transfers for a given policy date. Think of it as a\n",
    "complete snapshot of the tax and transfer system at a particular point in time.\n",
    "\n",
    "### The Three Types of Objects\n",
    "\n",
    "The policy environment contains three main categories of objects:\n",
    "\n",
    "1. **Column Objects** (`ColumnObjects`): These work with data columns - either input\n",
    "   data you provide or results computed by previous functions. They handle the actual\n",
    "   calculations and data processing.\n",
    "\n",
    "2. **Parameter Objects** (`ParamObjects`): These store the parameters and constants\n",
    "   used in calculations, such as tax rates, benefit amounts, or thresholds.\n",
    "\n",
    "3. **Parameter Functions** (`ParamFunctions`): These process and prepare parameters\n",
    "   so they can be used by the column objects. They handle parameter transformations\n",
    "   and validations.\n",
    "\n",
    "### Getting Started\n",
    "\n",
    "The first step in modifying taxes and transfers is to create the base policy\n",
    "environment for the date you want to work with."
   ]
  },
  {
   "cell_type": "code",
   "execution_count": null,
   "id": "3",
   "metadata": {},
   "outputs": [],
   "source": [
    "status_quo_environment = main(\n",
    "    main_target=MainTarget.policy_environment,\n",
    "    policy_date_str=\"2025-01-01\",\n",
    "    backend=\"numpy\",\n",
    ")"
   ]
  },
  {
   "cell_type": "markdown",
   "id": "4",
   "metadata": {},
   "source": [
    "We also create some input data in order to verify how our modifications to the policy\n",
    "environment affect the output. The following input data is required to compute the\n",
    "amount of social welfare benefits (i.e. `('arbeitslosengeld_2', 'betrag_m_bg')`) when\n",
    "assuming parental leave benefits (i.e. `('elterngeld', 'betrag_m')`), pensions\n",
    "(i.e. `('sozialversicherung', 'rente', 'altersrente', 'betrag_m')`,\n",
    "`('sozialversicherung', 'rente', 'erwerbsminderung', 'betrag_m')`), and unemployment\n",
    "benefits (i.e. `('sozialversicherung', 'arbeitslosen', 'betrag_m')`) are fixed at some\n",
    "value."
   ]
  },
  {
   "cell_type": "code",
   "execution_count": null,
   "id": "5",
   "metadata": {},
   "outputs": [],
   "source": [
    "INPUT_DATA_TREE = {\n",
    "    \"alter\": np.array([40, 40, 5]),\n",
    "    \"alter_monate\": np.array([480, 480, 60]),\n",
    "    \"arbeitslosengeld_2\": {\n",
    "        \"bezug_im_vorjahr\": np.array([False, False, False]),\n",
    "        \"eigenbedarf_gedeckt\": np.array([False, False, False]),\n",
    "        \"p_id_einstandspartner\": np.array([1, 0, -1]),\n",
    "    },\n",
    "    \"arbeitsstunden_w\": np.array([20, 0, 0]),\n",
    "    \"behinderungsgrad\": np.array([0, 0, 0]),\n",
    "    \"einkommensteuer\": {\n",
    "        \"abzüge\": {\n",
    "            \"beitrag_private_rentenversicherung_m\": np.array([0.0, 0.0, 0.0]),\n",
    "            \"kinderbetreuungskosten_m\": np.array([0.0, 0.0, 0.0]),\n",
    "            \"p_id_kinderbetreuungskostenträger\": np.array([-1, -1, 0]),\n",
    "        },\n",
    "        \"einkünfte\": {\n",
    "            \"aus_forst_und_landwirtschaft\": {\"betrag_m\": np.array([0.0, 0.0, 0.0])},\n",
    "            \"aus_gewerbebetrieb\": {\"betrag_m\": np.array([0.0, 0.0, 0.0])},\n",
    "            \"aus_kapitalvermögen\": {\"kapitalerträge_m\": np.array([0.0, 0.0, 0.0])},\n",
    "            \"aus_nichtselbstständiger_arbeit\": {\n",
    "                \"bruttolohn_m\": np.array([1500.0, 0.0, 0.0])\n",
    "            },\n",
    "            \"aus_selbstständiger_arbeit\": {\"betrag_m\": np.array([0.0, 0.0, 0.0])},\n",
    "            \"aus_vermietung_und_verpachtung\": {\"betrag_m\": np.array([0.0, 0.0, 0.0])},\n",
    "            \"ist_hauptberuflich_selbstständig\": np.array([False, False, False]),\n",
    "            \"sonstige\": {\n",
    "                \"alle_weiteren_m\": np.array([0.0, 0.0, 0.0]),\n",
    "                \"rente\": {\n",
    "                    \"betriebliche_altersvorsorge_m\": np.array([0.0, 0.0, 0.0]),\n",
    "                    \"geförderte_private_vorsorge_m\": np.array([0.0, 0.0, 0.0]),\n",
    "                    \"sonstige_private_vorsorge_m\": np.array([0.0, 0.0, 0.0]),\n",
    "                },\n",
    "            },\n",
    "        },\n",
    "        \"gemeinsam_veranlagt\": np.array([True, True, False]),\n",
    "    },\n",
    "    \"elterngeld\": {\"betrag_m\": np.array([0.0, 0.0, 0.0])},\n",
    "    \"familie\": {\n",
    "        \"alleinerziehend\": np.array([False, False, False]),\n",
    "        \"p_id_ehepartner\": np.array([1, 0, -1]),\n",
    "        \"p_id_elternteil_1\": np.array([-1, -1, 0]),\n",
    "        \"p_id_elternteil_2\": np.array([-1, -1, 1]),\n",
    "    },\n",
    "    \"geburtsjahr\": np.array([1985, 1985, 2020]),\n",
    "    \"hh_id\": np.array([0, 0, 0]),\n",
    "    \"kindergeld\": {\n",
    "        \"in_ausbildung\": np.array([False, False, False]),\n",
    "        \"p_id_empfänger\": np.array([-1, -1, 0]),\n",
    "    },\n",
    "    \"p_id\": np.array([0, 1, 2]),\n",
    "    \"sozialversicherung\": {\n",
    "        \"arbeitslosen\": {\"betrag_m\": np.array([0.0, 0.0, 0.0])},\n",
    "        \"kranken\": {\"beitrag\": {\"privat_versichert\": np.array([False, False, False])}},\n",
    "        \"pflege\": {\"beitrag\": {\"hat_kinder\": np.array([True, True, False])}},\n",
    "        \"rente\": {\n",
    "            \"altersrente\": {\"betrag_m\": np.array([0.0, 0.0, 0.0])},\n",
    "            \"bezieht_rente\": np.array([False, False, False]),\n",
    "            \"erwerbsminderung\": {\"betrag_m\": np.array([0.0, 0.0, 0.0])},\n",
    "            \"jahr_renteneintritt\": np.array([2060, 2060, 2090]),\n",
    "        },\n",
    "    },\n",
    "    \"unterhalt\": {\"tatsächlich_erhaltener_betrag_m\": np.array([0.0, 0.0, 0.0])},\n",
    "    \"vermögen\": np.array([0.0, 0.0, 0.0]),\n",
    "    \"wohnen\": {\n",
    "        \"bewohnt_eigentum_hh\": np.array([False, False, False]),\n",
    "        \"bruttokaltmiete_m_hh\": np.array([600.0, 600.0, 600.0]),\n",
    "        \"heizkosten_m_hh\": np.array([60.0, 60.0, 60.0]),\n",
    "        \"wohnfläche_hh\": np.array([50.0, 50.0, 50.0]),\n",
    "    },\n",
    "    \"wohngeld\": {\"mietstufe_hh\": np.array([4, 4, 4])},\n",
    "}"
   ]
  },
  {
   "cell_type": "markdown",
   "id": "6",
   "metadata": {},
   "source": [
    "The status quo is the following:"
   ]
  },
  {
   "cell_type": "code",
   "execution_count": null,
   "id": "7",
   "metadata": {},
   "outputs": [],
   "source": [
    "main(\n",
    "    main_target=MainTarget.results.df_with_nested_columns,\n",
    "    policy_date_str=\"2025-01-01\",\n",
    "    input_data=InputData.tree(INPUT_DATA_TREE),\n",
    "    tt_targets={\"tree\": {\"arbeitslosengeld_2\": {\"betrag_m_bg\": None}}},\n",
    "    include_warn_nodes=False,\n",
    ")"
   ]
  },
  {
   "cell_type": "markdown",
   "id": "8",
   "metadata": {},
   "source": [
    "## Modifying Parameters\n",
    "\n",
    "GETTSIM's parameters are stored in different objects depending on their type. If you\n",
    "modify the parameters in the `policy_environment`, you will encounter the following\n",
    "objects:\n",
    "\n",
    "1. **ScalarParam**: A scalar parameter, i.e. a parameter that is a single number.\n",
    "2. **DictParam**: A parameter that is a flat dictionary with homogeneous keys and values\n",
    "   (i.e. all keys and values are of the same type).\n",
    "3. **ConsecutiveIntLookupTableParam**: A lookup table that stores values and assigns a\n",
    "   consecutive integer index to each value.\n",
    "4. **PiecewisePolynomialParam**: A piecewise polynomial parameter, i.e. a parameter that\n",
    "    describes a piecewise polynomial function.\n",
    "5. **RawParam**: A parameter that does not fit into the other categories. For these\n",
    "   parameters, we need `ParamFunction`s to process them (see next section).\n",
    "\n",
    "Any of those parameter classes has the following attributes:\n",
    "- `leaf_name`: The leaf name of the parameter in GETTSIM's policy environment.\n",
    "- `start_date`: The date from which the parameter is valid (if applicable).\n",
    "- `end_date`: The date until which the parameter is valid (if applicable).\n",
    "- `unit`: The unit of the parameter (if applicable).\n",
    "- `reference_period`: The period over which the parameter is valid (if applicable).\n",
    "- `name`: The name of the parameter.\n",
    "- `description`: A more elaborate description of the parameter.\n",
    "- `value`: The value of the parameter.\n",
    "- `note`: Some notes (if applicable).\n",
    "- `reference`: A legal reference.\n",
    "\n",
    "When modifying parameters, you will mostly care about the `value` attribute.\n",
    "\n",
    "### Scalar Parameters\n",
    "\n",
    "Scalar parameters are the simplest type of parameters. They are represented by the\n",
    "`ScalarParam` class. They are stored as a single number in the `policy_environment`.\n",
    "\n",
    "Let's take a look at the `kindersofortzuschlag` parameter. This parameter increases the\n",
    "transfer to children by a fixed amount.\n",
    "\n",
    "As you can see the `kindersofortzuschlag` parameter is a `ScalarParam` object and its\n",
    "value is 25€ in the status quo."
   ]
  },
  {
   "cell_type": "code",
   "execution_count": null,
   "id": "9",
   "metadata": {},
   "outputs": [],
   "source": [
    "status_quo_environment[\"arbeitslosengeld_2\"][\"kindersofortzuschlag\"]"
   ]
  },
  {
   "cell_type": "code",
   "execution_count": null,
   "id": "10",
   "metadata": {},
   "outputs": [],
   "source": [
    "status_quo_environment[\"arbeitslosengeld_2\"][\"kindersofortzuschlag\"].value"
   ]
  },
  {
   "cell_type": "markdown",
   "id": "11",
   "metadata": {},
   "source": [
    "Let's increase the parameter.\n",
    "\n",
    "#### Step 1: Create a copy of the status quo policy environment. \n",
    "\n",
    "This is good practice to avoid inplace modifications of the original policy environment."
   ]
  },
  {
   "cell_type": "code",
   "execution_count": null,
   "id": "12",
   "metadata": {},
   "outputs": [],
   "source": [
    "higher_kindersofortzuschlag_policy_environment = copy_environment(\n",
    "    status_quo_environment\n",
    ")"
   ]
  },
  {
   "cell_type": "markdown",
   "id": "13",
   "metadata": {},
   "source": [
    "#### Step 2: Create the new parameter.\n",
    "\n",
    "Create a new `ScalarParam` object. To do this, we first import the `ScalarParam` class\n",
    "from GETTSIM and then instantiate it with the new value.\n",
    "\n",
    "**Tip**: You don't have to specify all attributes of the `ScalarParam` class. Only the\n",
    "value attribute is required."
   ]
  },
  {
   "cell_type": "code",
   "execution_count": null,
   "id": "14",
   "metadata": {},
   "outputs": [],
   "source": [
    "from ttsim.tt_dag_elements.param_objects import ScalarParam\n",
    "\n",
    "new_kindersofortzuschlag = ScalarParam(value=40)"
   ]
  },
  {
   "cell_type": "markdown",
   "id": "15",
   "metadata": {},
   "source": [
    "#### Step 3: Replace the old parameter with the new one in the new policy environment"
   ]
  },
  {
   "cell_type": "code",
   "execution_count": null,
   "id": "16",
   "metadata": {},
   "outputs": [],
   "source": [
    "higher_kindersofortzuschlag_policy_environment[\"arbeitslosengeld_2\"][\n",
    "    \"kindersofortzuschlag\"\n",
    "] = new_kindersofortzuschlag"
   ]
  },
  {
   "cell_type": "markdown",
   "id": "17",
   "metadata": {},
   "source": [
    "Let's call GETTSIM with the modified policy environment."
   ]
  },
  {
   "cell_type": "code",
   "execution_count": null,
   "id": "18",
   "metadata": {},
   "outputs": [],
   "source": [
    "main(\n",
    "    main_target=MainTarget.results.df_with_nested_columns,\n",
    "    policy_date_str=\"2025-01-01\",\n",
    "    input_data=InputData.tree(INPUT_DATA_TREE),\n",
    "    tt_targets={\"tree\": {\"arbeitslosengeld_2\": {\"betrag_m_bg\": None}}},\n",
    "    policy_environment=higher_kindersofortzuschlag_policy_environment,\n",
    "    include_warn_nodes=False,\n",
    ")"
   ]
  },
  {
   "cell_type": "markdown",
   "id": "19",
   "metadata": {},
   "source": [
    "### Dict Parameters\n",
    "\n",
    "Dict parameters are parameters that are a flat dictionary with homogeneous keys and\n",
    "values. They are represented by the `DictParam` class. They are stored as a flat\n",
    "dictionary in the `policy_environment`.\n",
    "\n",
    "Let's take a look at the `berechtigte_wohnfläche_miete` parameter. This parameter\n",
    "contains the amount of the admissible housing size for each type of housing.\n",
    "\n",
    "As you can see the `berechtigte_wohnfläche_miete` parameter is a `DictParam` object and\n",
    "its value is a dictionary."
   ]
  },
  {
   "cell_type": "code",
   "execution_count": null,
   "id": "20",
   "metadata": {},
   "outputs": [],
   "source": [
    "status_quo_environment[\"arbeitslosengeld_2\"][\"berechtigte_wohnfläche_miete\"]"
   ]
  },
  {
   "cell_type": "code",
   "execution_count": null,
   "id": "21",
   "metadata": {},
   "outputs": [],
   "source": [
    "status_quo_environment[\"arbeitslosengeld_2\"][\"berechtigte_wohnfläche_miete\"].value"
   ]
  },
  {
   "cell_type": "markdown",
   "id": "22",
   "metadata": {},
   "source": [
    "Let's modify the parameter by decreasing the "
   ]
  },
  {
   "cell_type": "code",
   "execution_count": null,
   "id": "23",
   "metadata": {},
   "outputs": [],
   "source": [
    "higher_kindersofortzuschlag_policy_environment = copy_environment(\n",
    "    status_quo_environment\n",
    ")"
   ]
  },
  {
   "cell_type": "markdown",
   "id": "24",
   "metadata": {},
   "source": [
    "#### Step 2: Create the new parameter.\n",
    "\n",
    "Create a new `ScalarParam` object. To do this, we first import the `ScalarParam` class\n",
    "from GETTSIM and then instantiate it with the new value.\n",
    "\n",
    "**Tip**: You don't have to specify all attributes of the `ScalarParam` class. Only the\n",
    "value attribute is required."
   ]
  },
  {
   "cell_type": "code",
   "execution_count": null,
   "id": "25",
   "metadata": {},
   "outputs": [],
   "source": [
    "from ttsim.tt_dag_elements.param_objects import ScalarParam\n",
    "\n",
    "new_kindersofortzuschlag = ScalarParam(value=40)"
   ]
  },
  {
   "cell_type": "markdown",
   "id": "26",
   "metadata": {},
   "source": [
    "#### Step 3: Replace the old parameter with the new one in the new policy environment"
   ]
  },
  {
   "cell_type": "code",
   "execution_count": null,
   "id": "27",
   "metadata": {},
   "outputs": [],
   "source": [
    "higher_kindersofortzuschlag_policy_environment[\"arbeitslosengeld_2\"][\n",
    "    \"kindersofortzuschlag\"\n",
    "] = new_kindersofortzuschlag"
   ]
  },
  {
   "cell_type": "markdown",
   "id": "28",
   "metadata": {},
   "source": [
    "Let's call GETTSIM with the modified policy environment."
   ]
  },
  {
   "cell_type": "code",
   "execution_count": null,
   "id": "29",
   "metadata": {},
   "outputs": [],
   "source": [
    "main(\n",
    "    main_target=MainTarget.results.df_with_nested_columns,\n",
    "    policy_date_str=\"2025-01-01\",\n",
    "    input_data=InputData.tree(INPUT_DATA_TREE),\n",
    "    tt_targets={\"tree\": {\"arbeitslosengeld_2\": {\"betrag_m_bg\": None}}},\n",
    "    policy_environment=higher_kindersofortzuschlag_policy_environment,\n",
    "    include_warn_nodes=False,\n",
    ")"
   ]
  },
  {
   "cell_type": "markdown",
   "id": "30",
   "metadata": {},
   "source": [
    "## Modifying Parameter Functions"
   ]
  },
  {
   "cell_type": "markdown",
   "id": "31",
   "metadata": {},
   "source": [
    "## Modifying Column Objects"
   ]
  }
 ],
 "metadata": {
  "language_info": {
   "codemirror_mode": {
    "name": "ipython",
    "version": 3
   },
   "file_extension": ".py",
   "mimetype": "text/x-python",
   "name": "python",
   "nbconvert_exporter": "python",
   "pygments_lexer": "ipython3"
  }
 },
 "nbformat": 4,
 "nbformat_minor": 5
}
