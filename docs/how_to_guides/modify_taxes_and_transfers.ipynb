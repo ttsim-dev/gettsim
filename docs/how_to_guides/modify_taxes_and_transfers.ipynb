{
 "cells": [
  {
   "cell_type": "code",
   "execution_count": null,
   "id": "0",
   "metadata": {},
   "outputs": [],
   "source": [
    "from pathlib import Path\n",
    "\n",
    "from gettsim import main\n",
    "from ttsim import MainTarget\n",
    "\n",
    "GETTSIM_ROOT = Path.cwd().parent.parent / \"src\" / \"_gettsim\""
   ]
  },
  {
   "cell_type": "markdown",
   "id": "1",
   "metadata": {},
   "source": [
    "# Modifying Taxes and Transfers\n",
    "\n",
    "GETTSIM's design allows you to go beyond the depiction of the current (or historical)\n",
    "tax and transfer system. Analyzing counterfactual reform scenarios, ranging from small\n",
    "changes of certain parameters of the tax and transfer system, to the introduction of\n",
    "large-scale reforms, is a common use case.\n",
    "\n",
    "This tutorial showcases how to modify taxes and transfers when using GETTSIM.\n",
    "\n",
    "Here, we focus on small reforms to the means-tested social welfare benefits for\n",
    "the unemployed (German: Bürgergeld; until 2022: Arbeitslosengeld II). We pick this\n",
    "example because Bürgergeld is a fairly complex system that uses the entire range of\n",
    "objects TTSIM offers."
   ]
  },
  {
   "cell_type": "markdown",
   "id": "2",
   "metadata": {},
   "source": [
    "## Status Quo\n",
    "\n",
    "The heart of GETTSIM's tax and transfer implementation is the `policy_date`-specific\n",
    "`policy_environment`. The `policy_environment` holds all the parameters and functions\n",
    "necessary to compute the taxes and transfers for a given policy date. The\n",
    "`policy_environment` is a nested dictionary with strings as keys and `TTSIM-objects`\n",
    "as values.\n",
    "\n",
    "The `policy_environment` has 3 broad types of objects (with many subclasses):\n",
    "- Objects that operate on columns of data, either provided by the user or computed by\n",
    "  previous functions. We call those `ColumnObjects`.\n",
    "- Objects that contain parameters. We call those `ParamObject`s.\n",
    "- Objects that process parameters in a way such that they can be used by the\n",
    "  `ColumnObjects`. We call those `ParamFunction`s.\n",
    "\n",
    "The first step when modifying taxes and transfers is to create the current policy\n",
    "environment."
   ]
  },
  {
   "cell_type": "code",
   "execution_count": null,
   "id": "3",
   "metadata": {},
   "outputs": [],
   "source": [
    "status_quo_environment = main(\n",
    "    main_target=MainTarget.policy_environment,\n",
    "    policy_date_str=\"2025-01-01\",\n",
    "    backend=\"numpy\",\n",
    ")"
   ]
  },
  {
   "cell_type": "code",
   "execution_count": null,
   "id": "4",
   "metadata": {},
   "outputs": [],
   "source": [
    "import numpy as np\n",
    "\n",
    "main(\n",
    "    main_target=MainTarget.templates.input_data_dtypes,\n",
    "    policy_date_str=\"2025-01-01\",\n",
    "    input_data={\n",
    "        \"tree\": {\n",
    "            \"p_id\": np.array([1]),\n",
    "            \"arbeitslosengeld_2\": {\n",
    "                \"bruttoeinkommen_m\": np.array([0.0]),\n",
    "            },\n",
    "        }\n",
    "    },\n",
    "    tt_targets={\"tree\": {\"arbeitslosengeld_2\": {\"betrag_m_bg\": None}}},\n",
    ")"
   ]
  },
  {
   "cell_type": "markdown",
   "id": "5",
   "metadata": {},
   "source": [
    "### UThe "
   ]
  },
  {
   "cell_type": "markdown",
   "id": "6",
   "metadata": {},
   "source": [
    "## Replacing/Adding Parameters"
   ]
  },
  {
   "cell_type": "markdown",
   "id": "7",
   "metadata": {},
   "source": [
    "## Replacing/Adding Functions"
   ]
  },
  {
   "cell_type": "markdown",
   "id": "8",
   "metadata": {},
   "source": [
    "## "
   ]
  }
 ],
 "metadata": {
  "language_info": {
   "codemirror_mode": {
    "name": "ipython",
    "version": 3
   },
   "file_extension": ".py",
   "mimetype": "text/x-python",
   "name": "python",
   "nbconvert_exporter": "python",
   "pygments_lexer": "ipython3"
  }
 },
 "nbformat": 4,
 "nbformat_minor": 5
}
