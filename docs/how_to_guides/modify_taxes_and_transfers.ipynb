{
 "cells": [
  {
   "cell_type": "code",
   "execution_count": 1,
   "id": "0",
   "metadata": {},
   "outputs": [],
   "source": [
    "import numpy as np\n",
    "from gettsim import main, InputData, MainTarget, copy_environment"
   ]
  },
  {
   "cell_type": "markdown",
   "id": "1",
   "metadata": {},
   "source": [
    "# Modifying Taxes and Transfers\n",
    "\n",
    "GETTSIM's design allows you to go beyond the depiction of the current (or historical)\n",
    "tax and transfer system. Analyzing counterfactual reform scenarios, ranging from small\n",
    "changes of certain parameters of the tax and transfer system, to the introduction of\n",
    "large-scale reforms, is a common use case.\n",
    "\n",
    "This tutorial showcases how to modify the calculation of taxes and transfers when using\n",
    "GETTSIM.\n",
    "\n",
    "Here, we focus mainly on small reforms to the means-tested social welfare benefits for\n",
    "the unemployed (German: Bürgergeld; until 2022: Arbeitslosengeld II). We pick this\n",
    "example because Bürgergeld is a fairly complex system that uses (almost) the entire\n",
    "range of objects TTSIM offers."
   ]
  },
  {
   "cell_type": "markdown",
   "id": "2",
   "metadata": {},
   "source": [
    "## Status Quo\n",
    "\n",
    "Before modifying taxes and transfers, it's important to understand how GETTSIM\n",
    "represents the current tax and transfer system. The core of GETTSIM's implementation is\n",
    "the **policy environment** - a comprehensive data structure that contains everything\n",
    "needed to compute taxes and transfers for a specific date.\n",
    "\n",
    "### What is a Policy Environment?\n",
    "\n",
    "A policy environment is a nested dictionary that holds all the parameters and functions\n",
    "needed to calculate taxes and transfers for a given policy date. Think of it as a\n",
    "complete snapshot of the tax and transfer system at a particular point in time.\n",
    "\n",
    "### The Three Types of Objects\n",
    "\n",
    "The policy environment contains three main categories of objects:\n",
    "\n",
    "1. **Column Objects** (`ColumnObjects`): These work with data columns - either input\n",
    "   data you provide or results computed by previous functions. They handle the actual\n",
    "   calculations and data processing.\n",
    "\n",
    "2. **Parameter Objects** (`ParamObjects`): These store the parameters and constants\n",
    "   used in calculations, such as tax rates, benefit amounts, or thresholds.\n",
    "\n",
    "3. **Parameter Functions** (`ParamFunctions`): These process and prepare parameters\n",
    "   so they can be used by the column objects. They handle parameter transformations\n",
    "   and validations.\n",
    "\n",
    "### Getting Started\n",
    "\n",
    "The first step in modifying taxes and transfers is to create the base policy\n",
    "environment for the date you want to work with."
   ]
  },
  {
   "cell_type": "code",
   "execution_count": 2,
   "id": "3",
   "metadata": {},
   "outputs": [],
   "source": [
    "status_quo_environment = main(\n",
    "    main_target=MainTarget.policy_environment,\n",
    "    policy_date_str=\"2025-01-01\",\n",
    "    backend=\"numpy\",\n",
    ")"
   ]
  },
  {
   "cell_type": "markdown",
   "id": "4",
   "metadata": {},
   "source": [
    "We also create some input data in order to verify how our modifications to the policy\n",
    "environment affect the output. The following input data is required to compute the\n",
    "amount of social welfare benefits (i.e. `('arbeitslosengeld_2', 'betrag_m_bg')`) when\n",
    "assuming parental leave benefits (i.e. `('elterngeld', 'betrag_m')`), pensions\n",
    "(i.e. `('sozialversicherung', 'rente', 'altersrente', 'betrag_m')`,\n",
    "`('sozialversicherung', 'rente', 'erwerbsminderung', 'betrag_m')`), and unemployment\n",
    "benefits (i.e. `('sozialversicherung', 'arbeitslosen', 'betrag_m')`) are fixed at some\n",
    "value."
   ]
  },
  {
   "cell_type": "code",
   "execution_count": null,
   "id": "5772e295",
   "metadata": {},
   "outputs": [
    {
     "ename": "MissingFunctionsError",
     "evalue": "The following targets have no corresponding function:\n\n[\n    \"wohngeld__betrag_m_wthh\",\n]\n",
     "output_type": "error",
     "traceback": [
      "\u001b[31m---------------------------------------------------------------------------\u001b[39m",
      "\u001b[31mMissingFunctionsError\u001b[39m                     Traceback (most recent call last)",
      "\u001b[36mCell\u001b[39m\u001b[36m \u001b[39m\u001b[32mIn[8]\u001b[39m\u001b[32m, line 21\u001b[39m\n\u001b[32m      1\u001b[39m inp = {\n\u001b[32m      2\u001b[39m     \u001b[33m\"\u001b[39m\u001b[33mp_id\u001b[39m\u001b[33m\"\u001b[39m: np.array([\u001b[32m0\u001b[39m]),\n\u001b[32m      3\u001b[39m     \u001b[33m\"\u001b[39m\u001b[33mwohngeld\u001b[39m\u001b[33m\"\u001b[39m: {\u001b[33m\"\u001b[39m\u001b[33mbetrag_m_wthh\u001b[39m\u001b[33m\"\u001b[39m: np.array([\u001b[32m0.0\u001b[39m])},\n\u001b[32m   (...)\u001b[39m\u001b[32m     18\u001b[39m     \u001b[38;5;66;03m#},\u001b[39;00m\n\u001b[32m     19\u001b[39m }\n\u001b[32m---> \u001b[39m\u001b[32m21\u001b[39m \u001b[43mmain\u001b[49m\u001b[43m(\u001b[49m\n\u001b[32m     22\u001b[39m \u001b[43m    \u001b[49m\u001b[43mmain_target\u001b[49m\u001b[43m=\u001b[49m\u001b[43mMainTarget\u001b[49m\u001b[43m.\u001b[49m\u001b[43mtemplates\u001b[49m\u001b[43m.\u001b[49m\u001b[43minput_data_dtypes\u001b[49m\u001b[43m,\u001b[49m\n\u001b[32m     23\u001b[39m \u001b[43m    \u001b[49m\u001b[43mpolicy_date_str\u001b[49m\u001b[43m=\u001b[49m\u001b[33;43m\"\u001b[39;49m\u001b[33;43m2025-01-01\u001b[39;49m\u001b[33;43m\"\u001b[39;49m\u001b[43m,\u001b[49m\n\u001b[32m     24\u001b[39m \u001b[43m    \u001b[49m\u001b[43minput_data\u001b[49m\u001b[43m=\u001b[49m\u001b[43mInputData\u001b[49m\u001b[43m.\u001b[49m\u001b[43mtree\u001b[49m\u001b[43m(\u001b[49m\u001b[43minp\u001b[49m\u001b[43m)\u001b[49m\u001b[43m,\u001b[49m\n\u001b[32m     25\u001b[39m \u001b[43m    \u001b[49m\u001b[43minclude_warn_nodes\u001b[49m\u001b[43m=\u001b[49m\u001b[38;5;28;43;01mFalse\u001b[39;49;00m\u001b[43m,\u001b[49m\n\u001b[32m     26\u001b[39m \u001b[43m)\u001b[49m\n",
      "\u001b[36mFile \u001b[39m\u001b[32m~/GitHub/gettsim/src/gettsim/__init__.py:108\u001b[39m, in \u001b[36mmain\u001b[39m\u001b[34m(main_target, main_targets, policy_date_str, input_data, tt_targets, rounding, backend, evaluation_date_str, include_fail_nodes, include_warn_nodes, orig_policy_objects, raw_results, results, specialized_environment, policy_environment, processed_data, policy_date, evaluation_date, labels)\u001b[39m\n\u001b[32m    103\u001b[39m \u001b[38;5;28;01mif\u001b[39;00m orig_policy_objects \u001b[38;5;129;01mis\u001b[39;00m \u001b[38;5;28;01mNone\u001b[39;00m:\n\u001b[32m    104\u001b[39m     orig_policy_objects = _ttsim.main_args.OrigPolicyObjects(\n\u001b[32m    105\u001b[39m         root=Path(\u001b[34m__file__\u001b[39m).parent.parent / \u001b[33m\"\u001b[39m\u001b[33m_gettsim\u001b[39m\u001b[33m\"\u001b[39m\n\u001b[32m    106\u001b[39m     )\n\u001b[32m--> \u001b[39m\u001b[32m108\u001b[39m \u001b[38;5;28;01mreturn\u001b[39;00m \u001b[43m_ttsim\u001b[49m\u001b[43m.\u001b[49m\u001b[43mmain\u001b[49m\u001b[43m(\u001b[49m\u001b[43m*\u001b[49m\u001b[43m*\u001b[49m\u001b[38;5;28;43mlocals\u001b[39;49m\u001b[43m(\u001b[49m\u001b[43m)\u001b[49m\u001b[43m)\u001b[49m\n",
      "\u001b[36mFile \u001b[39m\u001b[32m~/GitHub/gettsim/.pixi/envs/default/lib/python3.13/site-packages/ttsim/main.py:141\u001b[39m, in \u001b[36mmain\u001b[39m\u001b[34m(main_target, main_targets, policy_date_str, input_data, tt_targets, rounding, backend, evaluation_date_str, include_fail_nodes, include_warn_nodes, tt_function_set_annotations, orig_policy_objects, raw_results, results, specialized_environment, policy_environment, processed_data, policy_date, evaluation_date, labels)\u001b[39m\n\u001b[32m    132\u001b[39m \u001b[38;5;28;01mif\u001b[39;00m main_target:\n\u001b[32m    133\u001b[39m     f = dags.concatenate_functions(\n\u001b[32m    134\u001b[39m         dag=dag,\n\u001b[32m    135\u001b[39m         functions=functions,\n\u001b[32m   (...)\u001b[39m\u001b[32m    139\u001b[39m         lexsort_key=lexsort_key,\n\u001b[32m    140\u001b[39m     )\n\u001b[32m--> \u001b[39m\u001b[32m141\u001b[39m     \u001b[38;5;28;01mreturn\u001b[39;00m \u001b[43mf\u001b[49m\u001b[43m(\u001b[49m\u001b[43m*\u001b[49m\u001b[43m*\u001b[49m\u001b[43minput_qnames\u001b[49m\u001b[43m)\u001b[49m\n\u001b[32m    142\u001b[39m f = dags.concatenate_functions(\n\u001b[32m    143\u001b[39m     dag=dag,\n\u001b[32m    144\u001b[39m     functions=functions,\n\u001b[32m   (...)\u001b[39m\u001b[32m    149\u001b[39m     lexsort_key=lexsort_key,\n\u001b[32m    150\u001b[39m )\n\u001b[32m    151\u001b[39m \u001b[38;5;28;01mreturn\u001b[39;00m dt.unflatten_from_qnames(f(**input_qnames))\n",
      "\u001b[36mFile \u001b[39m\u001b[32m~/GitHub/gettsim/.pixi/envs/default/lib/python3.13/site-packages/dags/output.py:25\u001b[39m, in \u001b[36msingle_output.<locals>.wrapper_single_output\u001b[39m\u001b[34m(*args, **kwargs)\u001b[39m\n\u001b[32m     23\u001b[39m \u001b[38;5;129m@functools\u001b[39m.wraps(func)\n\u001b[32m     24\u001b[39m \u001b[38;5;28;01mdef\u001b[39;00m\u001b[38;5;250m \u001b[39m\u001b[34mwrapper_single_output\u001b[39m(*args: P.args, **kwargs: P.kwargs) -> T:\n\u001b[32m---> \u001b[39m\u001b[32m25\u001b[39m     raw = \u001b[43mfunc\u001b[49m\u001b[43m(\u001b[49m\u001b[43m*\u001b[49m\u001b[43margs\u001b[49m\u001b[43m,\u001b[49m\u001b[43m \u001b[49m\u001b[43m*\u001b[49m\u001b[43m*\u001b[49m\u001b[43mkwargs\u001b[49m\u001b[43m)\u001b[49m\n\u001b[32m     26\u001b[39m     \u001b[38;5;28;01mreturn\u001b[39;00m raw[\u001b[32m0\u001b[39m]\n",
      "\u001b[36mFile \u001b[39m\u001b[32m~/GitHub/gettsim/.pixi/envs/default/lib/python3.13/site-packages/dags/signature.py:139\u001b[39m, in \u001b[36mwith_signature.<locals>.decorator_with_signature.<locals>.wrapper_with_signature\u001b[39m\u001b[34m(*args, **kwargs)\u001b[39m\n\u001b[32m    135\u001b[39m     _fail_if_duplicated_arguments(present_args, present_kwargs, funcname)\n\u001b[32m    136\u001b[39m     _fail_if_invalid_keyword_arguments(\n\u001b[32m    137\u001b[39m         present_kwargs, valid_kwargs, funcname\n\u001b[32m    138\u001b[39m     )\n\u001b[32m--> \u001b[39m\u001b[32m139\u001b[39m \u001b[38;5;28;01mreturn\u001b[39;00m \u001b[43mfunc\u001b[49m\u001b[43m(\u001b[49m\u001b[43m*\u001b[49m\u001b[43margs\u001b[49m\u001b[43m,\u001b[49m\u001b[43m \u001b[49m\u001b[43m*\u001b[49m\u001b[43m*\u001b[49m\u001b[43mkwargs\u001b[49m\u001b[43m)\u001b[49m\n",
      "\u001b[36mFile \u001b[39m\u001b[32m~/GitHub/gettsim/.pixi/envs/default/lib/python3.13/site-packages/dags/dag.py:611\u001b[39m, in \u001b[36m_create_concatenated_function.<locals>.concatenated\u001b[39m\u001b[34m(*args, **kwargs)\u001b[39m\n\u001b[32m    609\u001b[39m \u001b[38;5;28;01mfor\u001b[39;00m name, info \u001b[38;5;129;01min\u001b[39;00m execution_info.items():\n\u001b[32m    610\u001b[39m     func_kwargs = {arg: results[arg] \u001b[38;5;28;01mfor\u001b[39;00m arg \u001b[38;5;129;01min\u001b[39;00m info.arguments}\n\u001b[32m--> \u001b[39m\u001b[32m611\u001b[39m     result = \u001b[43minfo\u001b[49m\u001b[43m.\u001b[49m\u001b[43mfunc\u001b[49m\u001b[43m(\u001b[49m\u001b[43m*\u001b[49m\u001b[43m*\u001b[49m\u001b[43mfunc_kwargs\u001b[49m\u001b[43m)\u001b[49m\n\u001b[32m    612\u001b[39m     results[name] = result\n\u001b[32m    614\u001b[39m \u001b[38;5;28;01mreturn\u001b[39;00m \u001b[38;5;28mtuple\u001b[39m(results[target] \u001b[38;5;28;01mfor\u001b[39;00m target \u001b[38;5;129;01min\u001b[39;00m targets)\n",
      "\u001b[36mFile \u001b[39m\u001b[32m~/GitHub/gettsim/.pixi/envs/default/lib/python3.13/site-packages/ttsim/interface_dag_elements/interface_node_objects.py:132\u001b[39m, in \u001b[36mInterfaceFunction.__call__\u001b[39m\u001b[34m(self, *args, **kwargs)\u001b[39m\n\u001b[32m    127\u001b[39m \u001b[38;5;28;01mdef\u001b[39;00m\u001b[38;5;250m \u001b[39m\u001b[34m__call__\u001b[39m(\n\u001b[32m    128\u001b[39m     \u001b[38;5;28mself\u001b[39m,\n\u001b[32m    129\u001b[39m     *args: FunArgTypes.args,\n\u001b[32m    130\u001b[39m     **kwargs: FunArgTypes.kwargs,\n\u001b[32m    131\u001b[39m ) -> ReturnType:\n\u001b[32m--> \u001b[39m\u001b[32m132\u001b[39m     \u001b[38;5;28;01mreturn\u001b[39;00m \u001b[38;5;28;43mself\u001b[39;49m\u001b[43m.\u001b[49m\u001b[43mfunction\u001b[49m\u001b[43m(\u001b[49m\u001b[43m*\u001b[49m\u001b[43margs\u001b[49m\u001b[43m,\u001b[49m\u001b[43m \u001b[49m\u001b[43m*\u001b[49m\u001b[43m*\u001b[49m\u001b[43mkwargs\u001b[49m\u001b[43m)\u001b[49m\n",
      "\u001b[36mFile \u001b[39m\u001b[32m~/GitHub/gettsim/.pixi/envs/default/lib/python3.13/site-packages/dags/signature.py:250\u001b[39m, in \u001b[36mrename_arguments.<locals>.decorator_rename_arguments.<locals>.wrapper_rename_arguments\u001b[39m\u001b[34m(*args, **kwargs)\u001b[39m\n\u001b[32m    248\u001b[39m     \u001b[38;5;28;01melif\u001b[39;00m mapper \u001b[38;5;129;01mis\u001b[39;00m \u001b[38;5;28;01mNone\u001b[39;00m \u001b[38;5;129;01mor\u001b[39;00m name \u001b[38;5;129;01mnot\u001b[39;00m \u001b[38;5;129;01min\u001b[39;00m mapper:\n\u001b[32m    249\u001b[39m         internal_kwargs[name] = value\n\u001b[32m--> \u001b[39m\u001b[32m250\u001b[39m \u001b[38;5;28;01mreturn\u001b[39;00m \u001b[43mfunc\u001b[49m\u001b[43m(\u001b[49m\u001b[43m*\u001b[49m\u001b[43margs\u001b[49m\u001b[43m,\u001b[49m\u001b[43m \u001b[49m\u001b[43m*\u001b[49m\u001b[43m*\u001b[49m\u001b[43minternal_kwargs\u001b[49m\u001b[43m)\u001b[49m\n",
      "\u001b[36mFile \u001b[39m\u001b[32m~/GitHub/gettsim/.pixi/envs/default/lib/python3.13/site-packages/ttsim/interface_dag_elements/templates.py:54\u001b[39m, in \u001b[36minput_data_dtypes\u001b[39m\u001b[34m(specialized_environment__with_partialled_params_and_scalars, policy_environment, tt_targets__qname, labels__grouping_levels, labels__top_level_namespace)\u001b[39m\n\u001b[32m     25\u001b[39m \u001b[38;5;129m@interface_function\u001b[39m()\n\u001b[32m     26\u001b[39m \u001b[38;5;28;01mdef\u001b[39;00m\u001b[38;5;250m \u001b[39m\u001b[34minput_data_dtypes\u001b[39m(\n\u001b[32m     27\u001b[39m     specialized_environment__with_partialled_params_and_scalars: SpecEnvWithPartialledParamsAndScalars,  \u001b[38;5;66;03m# noqa: E501\u001b[39;00m\n\u001b[32m   (...)\u001b[39m\u001b[32m     31\u001b[39m     labels__top_level_namespace: UnorderedQNames,\n\u001b[32m     32\u001b[39m ) -> NestedInputStructureDict:\n\u001b[32m     33\u001b[39m \u001b[38;5;250m    \u001b[39m\u001b[33;03m\"\"\"\u001b[39;00m\n\u001b[32m     34\u001b[39m \u001b[33;03m    A template of the required input data and their expected types.\u001b[39;00m\n\u001b[32m     35\u001b[39m \n\u001b[32m   (...)\u001b[39m\u001b[32m     52\u001b[39m \u001b[33;03m        A nested dictionary mapping input paths to their data types.\u001b[39;00m\n\u001b[32m     53\u001b[39m \u001b[33;03m    \"\"\"\u001b[39;00m\n\u001b[32m---> \u001b[39m\u001b[32m54\u001b[39m     base_dtype_tree = \u001b[43mdt\u001b[49m\u001b[43m.\u001b[49m\u001b[43mcreate_tree_with_input_types\u001b[49m\u001b[43m(\u001b[49m\n\u001b[32m     55\u001b[39m \u001b[43m        \u001b[49m\u001b[43mfunctions\u001b[49m\u001b[43m=\u001b[49m\u001b[43mdt\u001b[49m\u001b[43m.\u001b[49m\u001b[43munflatten_from_qnames\u001b[49m\u001b[43m(\u001b[49m\n\u001b[32m     56\u001b[39m \u001b[43m            \u001b[49m\u001b[43mspecialized_environment__with_partialled_params_and_scalars\u001b[49m\u001b[43m,\u001b[49m\n\u001b[32m     57\u001b[39m \u001b[43m        \u001b[49m\u001b[43m)\u001b[49m\u001b[43m,\u001b[49m\n\u001b[32m     58\u001b[39m \u001b[43m        \u001b[49m\u001b[43mtargets\u001b[49m\u001b[43m=\u001b[49m\u001b[43mtt_targets__qname\u001b[49m\u001b[43m,\u001b[49m\n\u001b[32m     59\u001b[39m \u001b[43m        \u001b[49m\u001b[43mtop_level_inputs\u001b[49m\u001b[43m=\u001b[49m\u001b[43mlabels__top_level_namespace\u001b[49m\u001b[43m,\u001b[49m\n\u001b[32m     60\u001b[39m \u001b[43m    \u001b[49m\u001b[43m)\u001b[49m\n\u001b[32m     62\u001b[39m     qname_policy_env = dt.flatten_to_qnames(policy_environment)\n\u001b[32m     63\u001b[39m     qname_dtype_tree = dt.flatten_to_qnames(base_dtype_tree)\n",
      "\u001b[36mFile \u001b[39m\u001b[32m~/GitHub/gettsim/.pixi/envs/default/lib/python3.13/site-packages/dags/tree/dag_tree.py:78\u001b[39m, in \u001b[36mcreate_tree_with_input_types\u001b[39m\u001b[34m(functions, targets, top_level_inputs)\u001b[39m\n\u001b[32m     69\u001b[39m fail_if_paths_are_invalid(\n\u001b[32m     70\u001b[39m     functions=functions,\n\u001b[32m     71\u001b[39m     abs_qnames_functions=functions_for_flat_dags,\n\u001b[32m     72\u001b[39m     targets=targets,\n\u001b[32m     73\u001b[39m     top_level_namespace=top_level_namespace,\n\u001b[32m     74\u001b[39m )\n\u001b[32m     76\u001b[39m targets_qnames = qnames(targets) \u001b[38;5;28;01mif\u001b[39;00m targets \u001b[38;5;129;01mis\u001b[39;00m \u001b[38;5;129;01mnot\u001b[39;00m \u001b[38;5;28;01mNone\u001b[39;00m \u001b[38;5;28;01melse\u001b[39;00m \u001b[38;5;28;01mNone\u001b[39;00m\n\u001b[32m---> \u001b[39m\u001b[32m78\u001b[39m _functions, _targets = \u001b[43mharmonize_and_check_functions_and_targets\u001b[49m\u001b[43m(\u001b[49m\n\u001b[32m     79\u001b[39m \u001b[43m    \u001b[49m\u001b[43mfunctions\u001b[49m\u001b[43m=\u001b[49m\u001b[43mfunctions_for_flat_dags\u001b[49m\u001b[43m,\u001b[49m\n\u001b[32m     80\u001b[39m \u001b[43m    \u001b[49m\u001b[43mtargets\u001b[49m\u001b[43m=\u001b[49m\u001b[43mtargets_qnames\u001b[49m\u001b[43m,\u001b[49m\n\u001b[32m     81\u001b[39m \u001b[43m\u001b[49m\u001b[43m)\u001b[49m\n\u001b[32m     83\u001b[39m dag = create_dag(\n\u001b[32m     84\u001b[39m     functions=_functions,\n\u001b[32m     85\u001b[39m     targets=_targets,\n\u001b[32m     86\u001b[39m )\n\u001b[32m     87\u001b[39m arglist = create_arguments_of_concatenated_function(functions=_functions, dag=dag)\n",
      "\u001b[36mFile \u001b[39m\u001b[32m~/GitHub/gettsim/.pixi/envs/default/lib/python3.13/site-packages/dags/dag.py:390\u001b[39m, in \u001b[36mharmonize_and_check_functions_and_targets\u001b[39m\u001b[34m(functions, targets)\u001b[39m\n\u001b[32m    388\u001b[39m targets_harmonized = _harmonize_targets(targets, \u001b[38;5;28mlist\u001b[39m(functions_harmonized))\n\u001b[32m    389\u001b[39m _fail_if_targets_have_wrong_types(targets_harmonized)\n\u001b[32m--> \u001b[39m\u001b[32m390\u001b[39m \u001b[43m_fail_if_functions_are_missing\u001b[49m\u001b[43m(\u001b[49m\u001b[43mfunctions_harmonized\u001b[49m\u001b[43m,\u001b[49m\u001b[43m \u001b[49m\u001b[43mtargets_harmonized\u001b[49m\u001b[43m)\u001b[49m\n\u001b[32m    392\u001b[39m \u001b[38;5;28;01mreturn\u001b[39;00m functions_harmonized, targets_harmonized\n",
      "\u001b[36mFile \u001b[39m\u001b[32m~/GitHub/gettsim/.pixi/envs/default/lib/python3.13/site-packages/dags/dag.py:434\u001b[39m, in \u001b[36m_fail_if_functions_are_missing\u001b[39m\u001b[34m(functions, targets)\u001b[39m\n\u001b[32m    432\u001b[39m formatted = format_list_linewise(\u001b[38;5;28mlist\u001b[39m(targets_not_in_functions))\n\u001b[32m    433\u001b[39m msg = \u001b[33mf\u001b[39m\u001b[33m\"\u001b[39m\u001b[33mThe following targets have no corresponding function:\u001b[39m\u001b[38;5;130;01m\\n\u001b[39;00m\u001b[38;5;132;01m{\u001b[39;00mformatted\u001b[38;5;132;01m}\u001b[39;00m\u001b[33m\"\u001b[39m\n\u001b[32m--> \u001b[39m\u001b[32m434\u001b[39m \u001b[38;5;28;01mraise\u001b[39;00m MissingFunctionsError(msg)\n",
      "\u001b[31mMissingFunctionsError\u001b[39m: The following targets have no corresponding function:\n\n[\n    \"wohngeld__betrag_m_wthh\",\n]\n"
     ]
    }
   ],
   "source": [
    "inp = {\n",
    "    \"p_id\": np.array([0]),\n",
    "    \"wohngeld\": {\"betrag_m_wthh\": np.array([0.0])},\n",
    "    #\"arbeitslosengeld_2\": {\"betrag_m_bg\": np.array([0.0])},\n",
    "    #\"elterngeld\": {\"betrag_m\": np.array([0.0])},\n",
    "    #\"sozialversicherung\": {\n",
    "    #    \"arbeitslosen\": {\n",
    "    #        \"betrag_m\": np.array([0.0])\n",
    "    #    },\n",
    "    #    \"rente\": {\n",
    "    #        \"altersrente\": {\n",
    "    #            \"betrag_m\": np.array([0.0])\n",
    "    #        },\n",
    "    #        \"erwerbsminderung\": {\n",
    "    #            \"betrag_m\": np.array([0.0])\n",
    "    #        },\n",
    "    #    },\n",
    "    #},\n",
    "}\n",
    "\n",
    "main(\n",
    "    main_target=MainTarget.templates.input_data_dtypes,\n",
    "    policy_date_str=\"2025-01-01\",\n",
    "    input_data=InputData.tree(inp),\n",
    "    include_warn_nodes=False,\n",
    ")"
   ]
  },
  {
   "cell_type": "code",
   "execution_count": 18,
   "id": "5",
   "metadata": {},
   "outputs": [],
   "source": [
    "INPUT_DATA_TREE = {\n",
    "    \"alter\": np.array([40, 40, 5]),\n",
    "    \"alter_monate\": np.array([480, 480, 60]),\n",
    "    \"arbeitslosengeld_2\": {\n",
    "        \"bezug_im_vorjahr\": np.array([True, True, True]),\n",
    "        \"eigenbedarf_gedeckt\": np.array([False, False, False]),\n",
    "        \"p_id_einstandspartner\": np.array([1, 0, -1]),\n",
    "    },\n",
    "    \"arbeitsstunden_w\": np.array([20, 0, 0]),\n",
    "    \"behinderungsgrad\": np.array([0, 0, 0]),\n",
    "    \"einkommensteuer\": {\n",
    "        \"abzüge\": {\n",
    "            \"beitrag_private_rentenversicherung_m\": np.array([0.0, 0.0, 0.0]),\n",
    "            \"kinderbetreuungskosten_m\": np.array([0.0, 0.0, 0.0]),\n",
    "            \"p_id_kinderbetreuungskostenträger\": np.array([-1, -1, 0]),\n",
    "        },\n",
    "        \"einkünfte\": {\n",
    "            \"aus_forst_und_landwirtschaft\": {\"betrag_m\": np.array([0.0, 0.0, 0.0])},\n",
    "            \"aus_gewerbebetrieb\": {\"betrag_m\": np.array([0.0, 0.0, 0.0])},\n",
    "            \"aus_kapitalvermögen\": {\"kapitalerträge_m\": np.array([0.0, 0.0, 0.0])},\n",
    "            \"aus_nichtselbstständiger_arbeit\": {\n",
    "                \"bruttolohn_m\": np.array([1500.0, 0.0, 0.0])\n",
    "            },\n",
    "            \"aus_selbstständiger_arbeit\": {\"betrag_m\": np.array([0.0, 0.0, 0.0])},\n",
    "            \"aus_vermietung_und_verpachtung\": {\"betrag_m\": np.array([0.0, 0.0, 0.0])},\n",
    "            \"ist_hauptberuflich_selbstständig\": np.array([False, False, False]),\n",
    "            \"sonstige\": {\n",
    "                \"alle_weiteren_m\": np.array([0.0, 0.0, 0.0]),\n",
    "                \"rente\": {\n",
    "                    \"betriebliche_altersvorsorge_m\": np.array([0.0, 0.0, 0.0]),\n",
    "                    \"geförderte_private_vorsorge_m\": np.array([0.0, 0.0, 0.0]),\n",
    "                    \"sonstige_private_vorsorge_m\": np.array([0.0, 0.0, 0.0]),\n",
    "                },\n",
    "            },\n",
    "        },\n",
    "        \"gemeinsam_veranlagt\": np.array([True, True, False]),\n",
    "    },\n",
    "    \"elterngeld\": {\"betrag_m\": np.array([0.0, 0.0, 0.0])},\n",
    "    \"familie\": {\n",
    "        \"alleinerziehend\": np.array([False, False, False]),\n",
    "        \"p_id_ehepartner\": np.array([1, 0, -1]),\n",
    "        \"p_id_elternteil_1\": np.array([-1, -1, 0]),\n",
    "        \"p_id_elternteil_2\": np.array([-1, -1, 1]),\n",
    "    },\n",
    "    \"geburtsjahr\": np.array([1985, 1985, 2020]),\n",
    "    \"hh_id\": np.array([0, 0, 0]),\n",
    "    \"kindergeld\": {\n",
    "        \"in_ausbildung\": np.array([False, False, False]),\n",
    "        \"p_id_empfänger\": np.array([-1, -1, 0]),\n",
    "    },\n",
    "    \"p_id\": np.array([0, 1, 2]),\n",
    "    \"sozialversicherung\": {\n",
    "        \"arbeitslosen\": {\"betrag_m\": np.array([0.0, 0.0, 0.0])},\n",
    "        \"kranken\": {\"beitrag\": {\"privat_versichert\": np.array([False, False, False])}},\n",
    "        \"pflege\": {\"beitrag\": {\"hat_kinder\": np.array([True, True, False])}},\n",
    "        \"rente\": {\n",
    "            \"altersrente\": {\"betrag_m\": np.array([0.0, 0.0, 0.0])},\n",
    "            \"bezieht_rente\": np.array([False, False, False]),\n",
    "            \"erwerbsminderung\": {\"betrag_m\": np.array([0.0, 0.0, 0.0])},\n",
    "            \"jahr_renteneintritt\": np.array([2060, 2060, 2090]),\n",
    "        },\n",
    "    },\n",
    "    \"unterhalt\": {\"tatsächlich_erhaltener_betrag_m\": np.array([0.0, 0.0, 0.0])},\n",
    "    \"vermögen\": np.array([0.0, 0.0, 0.0]),\n",
    "    \"wohnen\": {\n",
    "        \"bewohnt_eigentum_hh\": np.array([False, False, False]),\n",
    "        \"bruttokaltmiete_m_hh\": np.array([600.0, 600.0, 600.0]),\n",
    "        \"heizkosten_m_hh\": np.array([60.0, 60.0, 60.0]),\n",
    "        \"wohnfläche_hh\": np.array([50.0, 50.0, 50.0]),\n",
    "    },\n",
    "    \"wohngeld\": {\"mietstufe_hh\": np.array([4, 4, 4])},\n",
    "}"
   ]
  },
  {
   "cell_type": "markdown",
   "id": "6",
   "metadata": {},
   "source": [
    "The status quo is the following:"
   ]
  },
  {
   "cell_type": "code",
   "execution_count": 19,
   "id": "7",
   "metadata": {},
   "outputs": [
    {
     "data": {
      "text/html": [
       "<div>\n",
       "<style scoped>\n",
       "    .dataframe tbody tr th:only-of-type {\n",
       "        vertical-align: middle;\n",
       "    }\n",
       "\n",
       "    .dataframe tbody tr th {\n",
       "        vertical-align: top;\n",
       "    }\n",
       "\n",
       "    .dataframe thead tr th {\n",
       "        text-align: left;\n",
       "    }\n",
       "\n",
       "    .dataframe thead tr:last-of-type th {\n",
       "        text-align: right;\n",
       "    }\n",
       "</style>\n",
       "<table border=\"1\" class=\"dataframe\">\n",
       "  <thead>\n",
       "    <tr>\n",
       "      <th></th>\n",
       "      <th>arbeitslosengeld_2</th>\n",
       "    </tr>\n",
       "    <tr>\n",
       "      <th></th>\n",
       "      <th>betrag_m_bg</th>\n",
       "    </tr>\n",
       "    <tr>\n",
       "      <th>p_id</th>\n",
       "      <th></th>\n",
       "    </tr>\n",
       "  </thead>\n",
       "  <tbody>\n",
       "    <tr>\n",
       "      <th>0</th>\n",
       "      <td>790.916898</td>\n",
       "    </tr>\n",
       "    <tr>\n",
       "      <th>1</th>\n",
       "      <td>790.916898</td>\n",
       "    </tr>\n",
       "    <tr>\n",
       "      <th>2</th>\n",
       "      <td>790.916898</td>\n",
       "    </tr>\n",
       "  </tbody>\n",
       "</table>\n",
       "</div>"
      ],
      "text/plain": [
       "     arbeitslosengeld_2\n",
       "            betrag_m_bg\n",
       "p_id                   \n",
       "0            790.916898\n",
       "1            790.916898\n",
       "2            790.916898"
      ]
     },
     "execution_count": 19,
     "metadata": {},
     "output_type": "execute_result"
    }
   ],
   "source": [
    "main(\n",
    "    main_target=MainTarget.results.df_with_nested_columns,\n",
    "    policy_date_str=\"2025-01-01\",\n",
    "    input_data=InputData.tree(INPUT_DATA_TREE),\n",
    "    tt_targets={\"tree\": {\"arbeitslosengeld_2\": {\"betrag_m_bg\": None}}},\n",
    "    include_warn_nodes=False,\n",
    ")"
   ]
  },
  {
   "cell_type": "markdown",
   "id": "8",
   "metadata": {},
   "source": [
    "## Modifying Parameters\n",
    "\n",
    "GETTSIM's parameters are stored in different objects depending on their type. If you\n",
    "modify the parameters in the `policy_environment`, you will encounter the following\n",
    "objects:\n",
    "\n",
    "1. **ScalarParam**: A scalar parameter, i.e. a parameter that is a single number.\n",
    "2. **DictParam**: A parameter that is a flat dictionary with homogeneous keys and values\n",
    "   (i.e. all keys and values are of the same type).\n",
    "3. **ConsecutiveIntLookupTableParam**: A lookup table that stores values and assigns a\n",
    "   consecutive integer index to each value.\n",
    "4. **PiecewisePolynomialParam**: A piecewise polynomial parameter, i.e. a parameter that\n",
    "    describes a piecewise polynomial function.\n",
    "5. **RawParam**: A parameter that does not fit into the other categories. For these\n",
    "   parameters, we need `ParamFunction`s to process them (see next section).\n",
    "\n",
    "Any of those parameter classes has the following attributes:\n",
    "- `leaf_name`: The leaf name of the parameter in GETTSIM's policy environment.\n",
    "- `start_date`: The date from which the parameter is valid (if applicable).\n",
    "- `end_date`: The date until which the parameter is valid (if applicable).\n",
    "- `unit`: The unit of the parameter (if applicable).\n",
    "- `reference_period`: The period over which the parameter is valid (if applicable).\n",
    "- `name`: The name of the parameter.\n",
    "- `description`: A more elaborate description of the parameter.\n",
    "- `value`: The value of the parameter.\n",
    "- `note`: Some notes (if applicable).\n",
    "- `reference`: A legal reference.\n",
    "\n",
    "When modifying parameters, you will mostly care about the `value` attribute.\n",
    "\n",
    "### Scalar Parameters\n",
    "\n",
    "Scalar parameters are the simplest type of parameters. They are represented by the\n",
    "`ScalarParam` class. They are stored as a single number in the `policy_environment`.\n",
    "\n",
    "Let's take a look at the `kindersofortzuschlag` parameter. This parameter increases the\n",
    "transfer to children by a fixed amount.\n",
    "\n",
    "As you can see the `kindersofortzuschlag` parameter is a `ScalarParam` object and its\n",
    "value is 25€ in the status quo."
   ]
  },
  {
   "cell_type": "code",
   "execution_count": 20,
   "id": "9",
   "metadata": {},
   "outputs": [
    {
     "data": {
      "text/plain": [
       "ScalarParam(leaf_name='kindersofortzuschlag', start_date=datetime.date(2025, 1, 1), end_date=datetime.date(2099, 12, 31), unit='Euros', reference_period='Month', name={'de': 'Kindersofortzuschlag für Arbeitslosengeld II', 'en': 'Instant surcharge for children for unemployment benefit'}, description={'de': '§ 72 SGB II Kinder, Jugendliche  und junge Erwachsene, die Anspruch auf Arbeitslosengeld II oder Sozialgeld haben (Regelbedarfsstufen 3, 4, 5, 6), erhalten einen Sofortzuschlag von 20€.', 'en': '§ 72 SGB II Children, adolescents and young adults who are entitled to unemployment benefits or social benefits (Regelbedarfsstufen 3, 4, 5, 6) receive an instant surcharge of 20 Euro.'}, value=25, note=None, reference=None)"
      ]
     },
     "execution_count": 20,
     "metadata": {},
     "output_type": "execute_result"
    }
   ],
   "source": [
    "status_quo_environment[\"arbeitslosengeld_2\"][\"kindersofortzuschlag\"]"
   ]
  },
  {
   "cell_type": "code",
   "execution_count": 21,
   "id": "10",
   "metadata": {},
   "outputs": [
    {
     "data": {
      "text/plain": [
       "25"
      ]
     },
     "execution_count": 21,
     "metadata": {},
     "output_type": "execute_result"
    }
   ],
   "source": [
    "status_quo_environment[\"arbeitslosengeld_2\"][\"kindersofortzuschlag\"].value"
   ]
  },
  {
   "cell_type": "markdown",
   "id": "11",
   "metadata": {},
   "source": [
    "Let's increase the parameter.\n",
    "\n",
    "#### Step 1: Create a copy of the status quo policy environment. \n",
    "\n",
    "This is good practice to avoid inplace modifications of the original policy environment."
   ]
  },
  {
   "cell_type": "code",
   "execution_count": 22,
   "id": "12",
   "metadata": {},
   "outputs": [],
   "source": [
    "higher_kindersofortzuschlag_pe = copy_environment(\n",
    "    status_quo_environment\n",
    ")"
   ]
  },
  {
   "cell_type": "markdown",
   "id": "13",
   "metadata": {},
   "source": [
    "#### Step 2: Create the new parameter.\n",
    "\n",
    "Create a new `ScalarParam` object. To do this, we first import the `ScalarParam` class\n",
    "from GETTSIM and then instantiate it with the new value.\n",
    "\n",
    "**Tip**: You don't have to specify all attributes of the `ScalarParam` class. Only the\n",
    "value attribute is required."
   ]
  },
  {
   "cell_type": "code",
   "execution_count": 23,
   "id": "14",
   "metadata": {},
   "outputs": [],
   "source": [
    "from gettsim.tt import ScalarParam\n",
    "\n",
    "new_kindersofortzuschlag = ScalarParam(value=40)"
   ]
  },
  {
   "cell_type": "markdown",
   "id": "15",
   "metadata": {},
   "source": [
    "#### Step 3: Replace the old parameter with the new one in the new policy environment"
   ]
  },
  {
   "cell_type": "code",
   "execution_count": 24,
   "id": "16",
   "metadata": {},
   "outputs": [],
   "source": [
    "higher_kindersofortzuschlag_pe[\"arbeitslosengeld_2\"][\n",
    "    \"kindersofortzuschlag\"\n",
    "] = new_kindersofortzuschlag"
   ]
  },
  {
   "cell_type": "markdown",
   "id": "17",
   "metadata": {},
   "source": [
    "Let's call GETTSIM with the modified policy environment."
   ]
  },
  {
   "cell_type": "code",
   "execution_count": 25,
   "id": "18",
   "metadata": {},
   "outputs": [
    {
     "data": {
      "text/html": [
       "<div>\n",
       "<style scoped>\n",
       "    .dataframe tbody tr th:only-of-type {\n",
       "        vertical-align: middle;\n",
       "    }\n",
       "\n",
       "    .dataframe tbody tr th {\n",
       "        vertical-align: top;\n",
       "    }\n",
       "\n",
       "    .dataframe thead tr th {\n",
       "        text-align: left;\n",
       "    }\n",
       "\n",
       "    .dataframe thead tr:last-of-type th {\n",
       "        text-align: right;\n",
       "    }\n",
       "</style>\n",
       "<table border=\"1\" class=\"dataframe\">\n",
       "  <thead>\n",
       "    <tr>\n",
       "      <th></th>\n",
       "      <th>arbeitslosengeld_2</th>\n",
       "    </tr>\n",
       "    <tr>\n",
       "      <th></th>\n",
       "      <th>betrag_m_bg</th>\n",
       "    </tr>\n",
       "    <tr>\n",
       "      <th>p_id</th>\n",
       "      <th></th>\n",
       "    </tr>\n",
       "  </thead>\n",
       "  <tbody>\n",
       "    <tr>\n",
       "      <th>0</th>\n",
       "      <td>805.916898</td>\n",
       "    </tr>\n",
       "    <tr>\n",
       "      <th>1</th>\n",
       "      <td>805.916898</td>\n",
       "    </tr>\n",
       "    <tr>\n",
       "      <th>2</th>\n",
       "      <td>805.916898</td>\n",
       "    </tr>\n",
       "  </tbody>\n",
       "</table>\n",
       "</div>"
      ],
      "text/plain": [
       "     arbeitslosengeld_2\n",
       "            betrag_m_bg\n",
       "p_id                   \n",
       "0            805.916898\n",
       "1            805.916898\n",
       "2            805.916898"
      ]
     },
     "execution_count": 25,
     "metadata": {},
     "output_type": "execute_result"
    }
   ],
   "source": [
    "main(\n",
    "    main_target=MainTarget.results.df_with_nested_columns,\n",
    "    policy_date_str=\"2025-01-01\",\n",
    "    input_data=InputData.tree(INPUT_DATA_TREE),\n",
    "    tt_targets={\"tree\": {\"arbeitslosengeld_2\": {\"betrag_m_bg\": None}}},\n",
    "    policy_environment=higher_kindersofortzuschlag_pe,\n",
    "    include_warn_nodes=False,\n",
    ")"
   ]
  },
  {
   "cell_type": "markdown",
   "id": "19",
   "metadata": {},
   "source": [
    "### Dict Parameters\n",
    "\n",
    "Dict parameters are parameters that are a flat dictionary with homogeneous keys and\n",
    "values. They are represented by the `DictParam` class. They are stored as a flat\n",
    "dictionary in the `policy_environment`.\n",
    "\n",
    "Let's take a look at the `berechtigte_wohnfläche_miete` parameter. This parameter\n",
    "contains the amount of the admissible housing size in square meters for recipients of\n",
    "social welfare benefits.\n",
    "\n",
    "As you can see the `berechtigte_wohnfläche_miete` parameter is a `DictParam` object and\n",
    "its value is a dictionary."
   ]
  },
  {
   "cell_type": "code",
   "execution_count": 26,
   "id": "20",
   "metadata": {},
   "outputs": [
    {
     "data": {
      "text/plain": [
       "DictParam(leaf_name='berechtigte_wohnfläche_miete', start_date=datetime.date(2005, 1, 1), end_date=datetime.date(2099, 12, 31), unit='Square Meters', reference_period=None, name={'de': 'Berechtigte Mietwohnfläche für ALG2-Empfänger*innen', 'en': 'Living rental space eligible for ALG2-recipients'}, description={'de': 'Eine Mietwohnung darf für einen Single 45 Quadratmeter (+15 für jede weitere Person) groß sein. Dies ist nur eine Approximation. Die regionalen Parameter sind unbekannt, siehe Issue https://github.com/ttsim-dev/gettsim/issues/782.', 'en': 'A rental apartment may be 45 square meters for a single person (+15 for each additional person). This is only an approximation. The regional parameters are unknown, see Issue https://github.com/ttsim-dev/gettsim/issues/782.'}, value={'single': 45, 'je_weitere_person': 15}, note=None, reference=None)"
      ]
     },
     "execution_count": 26,
     "metadata": {},
     "output_type": "execute_result"
    }
   ],
   "source": [
    "status_quo_environment[\"arbeitslosengeld_2\"][\"berechtigte_wohnfläche_miete\"]"
   ]
  },
  {
   "cell_type": "code",
   "execution_count": 27,
   "id": "21",
   "metadata": {},
   "outputs": [
    {
     "data": {
      "text/plain": [
       "{'single': 45, 'je_weitere_person': 15}"
      ]
     },
     "execution_count": 27,
     "metadata": {},
     "output_type": "execute_result"
    }
   ],
   "source": [
    "status_quo_environment[\"arbeitslosengeld_2\"][\"berechtigte_wohnfläche_miete\"].value"
   ]
  },
  {
   "cell_type": "markdown",
   "id": "22",
   "metadata": {},
   "source": [
    "Let's modify the parameter by decreasing admissible household size for a single person.\n",
    "We follow the same steps as in the previous section."
   ]
  },
  {
   "cell_type": "code",
   "execution_count": 30,
   "id": "23",
   "metadata": {},
   "outputs": [
    {
     "data": {
      "text/html": [
       "<div>\n",
       "<style scoped>\n",
       "    .dataframe tbody tr th:only-of-type {\n",
       "        vertical-align: middle;\n",
       "    }\n",
       "\n",
       "    .dataframe tbody tr th {\n",
       "        vertical-align: top;\n",
       "    }\n",
       "\n",
       "    .dataframe thead tr th {\n",
       "        text-align: left;\n",
       "    }\n",
       "\n",
       "    .dataframe thead tr:last-of-type th {\n",
       "        text-align: right;\n",
       "    }\n",
       "</style>\n",
       "<table border=\"1\" class=\"dataframe\">\n",
       "  <thead>\n",
       "    <tr>\n",
       "      <th></th>\n",
       "      <th>arbeitslosengeld_2</th>\n",
       "    </tr>\n",
       "    <tr>\n",
       "      <th></th>\n",
       "      <th>betrag_m_bg</th>\n",
       "    </tr>\n",
       "    <tr>\n",
       "      <th>p_id</th>\n",
       "      <th></th>\n",
       "    </tr>\n",
       "  </thead>\n",
       "  <tbody>\n",
       "    <tr>\n",
       "      <th>0</th>\n",
       "      <td>740.916898</td>\n",
       "    </tr>\n",
       "    <tr>\n",
       "      <th>1</th>\n",
       "      <td>740.916898</td>\n",
       "    </tr>\n",
       "    <tr>\n",
       "      <th>2</th>\n",
       "      <td>740.916898</td>\n",
       "    </tr>\n",
       "  </tbody>\n",
       "</table>\n",
       "</div>"
      ],
      "text/plain": [
       "     arbeitslosengeld_2\n",
       "            betrag_m_bg\n",
       "p_id                   \n",
       "0            740.916898\n",
       "1            740.916898\n",
       "2            740.916898"
      ]
     },
     "execution_count": 30,
     "metadata": {},
     "output_type": "execute_result"
    }
   ],
   "source": [
    "from gettsim.tt import DictParam\n",
    "\n",
    "new_berechtigte_wohnfläche_miete = DictParam(\n",
    "    value={\n",
    "        \"single\": 15,\n",
    "        \"je_weitere_person\": 15,\n",
    "    },\n",
    ")\n",
    "\n",
    "lower_berechtigte_wohnfläche_miete_pe = copy_environment(\n",
    "    status_quo_environment\n",
    ")\n",
    "\n",
    "lower_berechtigte_wohnfläche_miete_pe[\"arbeitslosengeld_2\"][\"berechtigte_wohnfläche_miete\"] = new_berechtigte_wohnfläche_miete\n",
    "\n",
    "main(\n",
    "    main_target=MainTarget.results.df_with_nested_columns,\n",
    "    policy_date_str=\"2025-01-01\",\n",
    "    input_data=InputData.tree(INPUT_DATA_TREE),\n",
    "    tt_targets={\"tree\": {\"arbeitslosengeld_2\": {\"betrag_m_bg\": None}}},\n",
    "    policy_environment=lower_berechtigte_wohnfläche_miete_pe,\n",
    "    include_warn_nodes=False,\n",
    ")"
   ]
  },
  {
   "cell_type": "markdown",
   "id": "54e7ddf6",
   "metadata": {},
   "source": [
    "### Consecutive Int Lookup Table Parameters\n",
    "\n",
    "Consecutive Int Lookup Table Parameters are one-dimensional arrays. GETTSIM uses then\n",
    "whenever a parameter is a function of a single integer variable (like age in months,\n",
    "number of household members, etc.).\n",
    "\n",
    "There are very few parameters of this type in GETTSIM's policy environment; most of them\n",
    "are created via `param_function`s.\n",
    "\n",
    "Let's step out of the social welfare benefits example for this parameter and look at\n",
    "pension benefits. Here, usage of `ConsecutiveIntLookupTableParam` is more common. In\n",
    "particular, we'll look at the normal retirement age parameter, which is a function of\n",
    "the birth year."
   ]
  },
  {
   "cell_type": "code",
   "execution_count": 77,
   "id": "500f8c9b",
   "metadata": {},
   "outputs": [
    {
     "data": {
      "text/plain": [
       "ConsecutiveIntLookupTableParam(leaf_name='altersgrenze_gestaffelt', start_date=datetime.date(2007, 4, 20), end_date=datetime.date(2030, 12, 31), unit='Years', reference_period=None, name={'de': 'Gestaffeltes Eintrittsalter für Regelaltersrente nach Geburtsjahr', 'en': 'Staggered normal retirement age (NRA) for Regelaltersrente by birth year'}, description={'de': '§ 35 Satz 2 SGB VI Regelaltersgrenze ab der Renteneintritt möglich ist. Wenn früher oder später in Rente gegangen wird, wird der Zugangsfaktor und damit der Rentenanspruch höher oder niedriger, sofern keine Sonderregelungen gelten.', 'en': '§ 35 Satz 2 SGB VI Normal retirement age from which pension can be received. If retirement benefits are claimed earlier or later, the Zugangsfaktor and thus the pension entitlement is higher or lower unless special regulations apply.'}, value=<ttsim.tt.param_objects.ConsecutiveIntLookupTableParamValue object at 0x171a1ea80>, note=None, reference=None)"
      ]
     },
     "execution_count": 77,
     "metadata": {},
     "output_type": "execute_result"
    }
   ],
   "source": [
    "status_quo_environment[\"sozialversicherung\"][\"rente\"][\"altersrente\"][\"regelaltersrente\"][\"altersgrenze_gestaffelt\"]"
   ]
  },
  {
   "cell_type": "code",
   "execution_count": 78,
   "id": "16919d94",
   "metadata": {},
   "outputs": [
    {
     "data": {
      "text/plain": [
       "<ttsim.tt.param_objects.ConsecutiveIntLookupTableParamValue at 0x171a1ea80>"
      ]
     },
     "execution_count": 78,
     "metadata": {},
     "output_type": "execute_result"
    }
   ],
   "source": [
    "status_quo_environment[\"sozialversicherung\"][\"rente\"][\"altersrente\"][\"regelaltersrente\"][\"altersgrenze_gestaffelt\"].value"
   ]
  },
  {
   "cell_type": "markdown",
   "id": "4d8ba53b",
   "metadata": {},
   "source": [
    "The `ConsecutiveIntLookupTableParamValue` has the following attributes:\n",
    "- `values_to_look_up`: an array of values\n",
    "- `bases_to_subtract`: the base value to subtract when indexing into\n",
    "  `values_to_look_up`. For example, when setting this to `10`, indexing the\n",
    "  `ConsecutiveIntLookupTableParamValue` at `12` returns the value at indes `12 - 10 =\n",
    "  2`.\n",
    "\n",
    "In this example here, one could look up the parameter value at `1900` via the `look_up´\n",
    "method to get the first value of the array:"
   ]
  },
  {
   "cell_type": "code",
   "execution_count": null,
   "id": "b0059231",
   "metadata": {},
   "outputs": [
    {
     "data": {
      "text/plain": [
       "array([[1900]])"
      ]
     },
     "execution_count": 79,
     "metadata": {},
     "output_type": "execute_result"
    }
   ],
   "source": [
    "status_quo_environment[\"sozialversicherung\"][\"rente\"][\"altersrente\"][\"regelaltersrente\"][\"altersgrenze_gestaffelt\"].value.bases_to_subtract"
   ]
  },
  {
   "cell_type": "code",
   "execution_count": 80,
   "id": "126dc738",
   "metadata": {},
   "outputs": [
    {
     "data": {
      "text/plain": [
       "array([65.        , 65.        , 65.        , 65.        , 65.        ,\n",
       "       65.        , 65.        , 65.        , 65.        , 65.        ,\n",
       "       65.        , 65.        , 65.        , 65.        , 65.        ,\n",
       "       65.        , 65.        , 65.        , 65.        , 65.        ,\n",
       "       65.        , 65.        , 65.        , 65.        , 65.        ,\n",
       "       65.        , 65.        , 65.        , 65.        , 65.        ,\n",
       "       65.        , 65.        , 65.        , 65.        , 65.        ,\n",
       "       65.        , 65.        , 65.        , 65.        , 65.        ,\n",
       "       65.        , 65.        , 65.        , 65.        , 65.        ,\n",
       "       65.        , 65.        , 65.08333333, 65.16666667, 65.25      ,\n",
       "       65.33333333, 65.41666667, 65.5       , 65.58333333, 65.66666667,\n",
       "       65.75      , 65.83333333, 65.91666667, 66.        , 66.16666667,\n",
       "       66.33333333, 66.5       , 66.66666667, 66.83333333, 67.        ,\n",
       "       67.        , 67.        , 67.        , 67.        , 67.        ,\n",
       "       67.        , 67.        , 67.        , 67.        , 67.        ,\n",
       "       67.        , 67.        , 67.        , 67.        , 67.        ,\n",
       "       67.        , 67.        , 67.        , 67.        , 67.        ,\n",
       "       67.        , 67.        , 67.        , 67.        , 67.        ,\n",
       "       67.        , 67.        , 67.        , 67.        , 67.        ,\n",
       "       67.        , 67.        , 67.        , 67.        , 67.        ,\n",
       "       67.        , 67.        , 67.        , 67.        , 67.        ,\n",
       "       67.        , 67.        , 67.        , 67.        , 67.        ,\n",
       "       67.        , 67.        , 67.        , 67.        , 67.        ,\n",
       "       67.        , 67.        , 67.        , 67.        , 67.        ,\n",
       "       67.        , 67.        , 67.        , 67.        , 67.        ,\n",
       "       67.        , 67.        , 67.        , 67.        , 67.        ,\n",
       "       67.        , 67.        ])"
      ]
     },
     "execution_count": 80,
     "metadata": {},
     "output_type": "execute_result"
    }
   ],
   "source": [
    "status_quo_environment[\"sozialversicherung\"][\"rente\"][\"altersrente\"][\"regelaltersrente\"][\"altersgrenze_gestaffelt\"].value.values_to_look_up"
   ]
  },
  {
   "cell_type": "code",
   "execution_count": 81,
   "id": "0f76b300",
   "metadata": {},
   "outputs": [
    {
     "data": {
      "text/plain": [
       "array([65.])"
      ]
     },
     "execution_count": 81,
     "metadata": {},
     "output_type": "execute_result"
    }
   ],
   "source": [
    "status_quo_environment[\"sozialversicherung\"][\"rente\"][\"altersrente\"][\"regelaltersrente\"][\"altersgrenze_gestaffelt\"].value.look_up(1900)"
   ]
  },
  {
   "cell_type": "markdown",
   "id": "cd1b82aa",
   "metadata": {},
   "source": [
    "Let's create a modified version with a steeper increase in the normal retirement age."
   ]
  },
  {
   "cell_type": "code",
   "execution_count": 83,
   "id": "6fd17142",
   "metadata": {},
   "outputs": [
    {
     "data": {
      "text/html": [
       "<div>\n",
       "<style scoped>\n",
       "    .dataframe tbody tr th:only-of-type {\n",
       "        vertical-align: middle;\n",
       "    }\n",
       "\n",
       "    .dataframe tbody tr th {\n",
       "        vertical-align: top;\n",
       "    }\n",
       "\n",
       "    .dataframe thead tr th {\n",
       "        text-align: left;\n",
       "    }\n",
       "\n",
       "    .dataframe thead tr:last-of-type th {\n",
       "        text-align: right;\n",
       "    }\n",
       "</style>\n",
       "<table border=\"1\" class=\"dataframe\">\n",
       "  <thead>\n",
       "    <tr>\n",
       "      <th></th>\n",
       "      <th>sozialversicherung</th>\n",
       "    </tr>\n",
       "    <tr>\n",
       "      <th></th>\n",
       "      <th>rente</th>\n",
       "    </tr>\n",
       "    <tr>\n",
       "      <th></th>\n",
       "      <th>altersrente</th>\n",
       "    </tr>\n",
       "    <tr>\n",
       "      <th></th>\n",
       "      <th>regelaltersrente</th>\n",
       "    </tr>\n",
       "    <tr>\n",
       "      <th></th>\n",
       "      <th>altersgrenze</th>\n",
       "    </tr>\n",
       "    <tr>\n",
       "      <th>p_id</th>\n",
       "      <th></th>\n",
       "    </tr>\n",
       "  </thead>\n",
       "  <tbody>\n",
       "    <tr>\n",
       "      <th>0</th>\n",
       "      <td>65.0</td>\n",
       "    </tr>\n",
       "    <tr>\n",
       "      <th>1</th>\n",
       "      <td>65.5</td>\n",
       "    </tr>\n",
       "    <tr>\n",
       "      <th>2</th>\n",
       "      <td>66.0</td>\n",
       "    </tr>\n",
       "    <tr>\n",
       "      <th>3</th>\n",
       "      <td>66.5</td>\n",
       "    </tr>\n",
       "    <tr>\n",
       "      <th>4</th>\n",
       "      <td>67.0</td>\n",
       "    </tr>\n",
       "  </tbody>\n",
       "</table>\n",
       "</div>"
      ],
      "text/plain": [
       "     sozialversicherung\n",
       "                  rente\n",
       "            altersrente\n",
       "       regelaltersrente\n",
       "           altersgrenze\n",
       "p_id                   \n",
       "0                  65.0\n",
       "1                  65.5\n",
       "2                  66.0\n",
       "3                  66.5\n",
       "4                  67.0"
      ]
     },
     "execution_count": 83,
     "metadata": {},
     "output_type": "execute_result"
    }
   ],
   "source": [
    "from gettsim.tt import ConsecutiveIntLookupTableParam, ConsecutiveIntLookupTableParamValue\n",
    "\n",
    "increased_nra_by_birth_year = ConsecutiveIntLookupTableParam(\n",
    "    value=ConsecutiveIntLookupTableParamValue(\n",
    "        values_to_look_up=np.array([65.0] * 45 + [65.5, 66.0, 66.5, 67.0] + [67.0] * 51),\n",
    "        bases_to_subtract=np.array([1900]),\n",
    "        xnp=np,\n",
    "    ),\n",
    ")\n",
    "\n",
    "increased_nra_by_birth_year_pe = copy_environment(status_quo_environment)\n",
    "increased_nra_by_birth_year_pe[\"sozialversicherung\"][\"rente\"][\"altersrente\"][\"regelaltersrente\"][\"altersgrenze_gestaffelt\"] = increased_nra_by_birth_year\n",
    "\n",
    "main(\n",
    "    main_target=MainTarget.results.df_with_nested_columns,\n",
    "    policy_date_str=\"2025-01-01\",\n",
    "    input_data=InputData.tree({\n",
    "        \"geburtsjahr\": np.array([1944, 1945, 1946, 1947, 1948]),\n",
    "        \"p_id\": np.array([0, 1, 2, 3, 4])\n",
    "    }),\n",
    "    tt_targets={\"tree\": {\"sozialversicherung\": {\"rente\": {\"altersrente\": {\"regelaltersrente\": {\"altersgrenze\": None}}}}}},\n",
    "    policy_environment=increased_nra_by_birth_year_pe,\n",
    "    include_warn_nodes=False,\n",
    ")"
   ]
  },
  {
   "cell_type": "markdown",
   "id": "45b6e543",
   "metadata": {},
   "source": [
    "### Piecewise Polynomial Parameters\n",
    "\n",
    "Piecewise polynomial parameters specify a continuous polynomial (first to third degree)\n",
    "on the real line. GETTSIM uses them whenever a parameter is a function of a continuous\n",
    "variable (like income, age, etc.).\n",
    "\n"
   ]
  },
  {
   "cell_type": "markdown",
   "id": "30",
   "metadata": {},
   "source": [
    "## Modifying Parameter Functions"
   ]
  },
  {
   "cell_type": "markdown",
   "id": "31",
   "metadata": {},
   "source": [
    "## Modifying Column Objects"
   ]
  }
 ],
 "metadata": {
  "kernelspec": {
   "display_name": "default",
   "language": "python",
   "name": "python3"
  },
  "language_info": {
   "codemirror_mode": {
    "name": "ipython",
    "version": 3
   },
   "file_extension": ".py",
   "mimetype": "text/x-python",
   "name": "python",
   "nbconvert_exporter": "python",
   "pygments_lexer": "ipython3",
   "version": "3.13.5"
  }
 },
 "nbformat": 4,
 "nbformat_minor": 5
}
