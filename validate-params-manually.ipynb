{
 "cells": [
  {
   "cell_type": "code",
   "execution_count": null,
   "metadata": {},
   "outputs": [],
   "source": [
    "import json\n",
    "from pathlib import Path\n",
    "\n",
    "import jsonschema\n",
    "import yaml\n",
    "\n",
    "\n",
    "class NoDateLoader(yaml.SafeLoader):\n",
    "    \"\"\"YAML loader that does not convert date strings to datetime.date objects.\"\"\"\n",
    "\n",
    "\n",
    "# Define a constructor for the 'tag:yaml.org,2002:timestamp' type to treat it as a\n",
    "# string\n",
    "def no_date_constructor(loader, node):\n",
    "    return loader.construct_scalar(node)\n",
    "\n",
    "\n",
    "# Add the constructor to the custom loader\n",
    "NoDateLoader.add_constructor(\"tag:yaml.org,2002:timestamp\", no_date_constructor)"
   ]
  },
  {
   "cell_type": "code",
   "execution_count": null,
   "metadata": {},
   "outputs": [],
   "source": [
    "# Load schema\n",
    "with Path(\"src/ttsim/params-schema.json\").open() as f:\n",
    "    schema = json.load(f)\n",
    "\n",
    "\n",
    "def validate_params(yaml_file):\n",
    "    # Load the YAML file using the custom loader\n",
    "    with yaml_file.open() as y:\n",
    "        data = yaml.load(y, Loader=NoDateLoader)  # noqa: S506\n",
    "    jsonschema.validate(data, schema)"
   ]
  },
  {
   "cell_type": "code",
   "execution_count": null,
   "metadata": {},
   "outputs": [],
   "source": [
    "for f in Path(\"src/_gettsim/parameters/\").glob(\"*.yaml\"):\n",
    "    print(f)  # noqa: T201\n",
    "    validate_params(f)"
   ]
  },
  {
   "cell_type": "code",
   "execution_count": null,
   "metadata": {},
   "outputs": [],
   "source": []
  }
 ],
 "metadata": {
  "language_info": {
   "codemirror_mode": {
    "name": "ipython",
    "version": 3
   },
   "file_extension": ".py",
   "mimetype": "text/x-python",
   "name": "python",
   "nbconvert_exporter": "python",
   "pygments_lexer": "ipython3"
  }
 },
 "nbformat": 4,
 "nbformat_minor": 2
}
