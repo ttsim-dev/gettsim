{
 "cells": [
  {
   "cell_type": "code",
   "execution_count": null,
   "metadata": {},
   "outputs": [],
   "source": [
    "import json\n",
    "\n",
    "import jsonschema\n",
    "import yaml\n",
    "\n",
    "# Load schema\n",
    "with open(\"src/ttsim/params-schema.json\") as f:\n",
    "    schema = json.load(f)"
   ]
  },
  {
   "cell_type": "code",
   "execution_count": null,
   "metadata": {},
   "outputs": [],
   "source": [
    "class NoDateLoader(yaml.SafeLoader):\n",
    "    \"\"\"Custom YAML loader that prevents date strings from being converted to datetime.date objects.\"\"\"\n",
    "\n",
    "\n",
    "# Define a constructor for the 'tag:yaml.org,2002:timestamp' type to treat it as a string\n",
    "def no_date_constructor(loader, node):\n",
    "    return loader.construct_scalar(node)\n",
    "\n",
    "\n",
    "# Add the constructor to the custom loader\n",
    "NoDateLoader.add_constructor(\"tag:yaml.org,2002:timestamp\", no_date_constructor)\n",
    "\n",
    "# Load the YAML file using the custom loader\n",
    "with open(\"src/_gettsim/parameters/abgelt_st.yaml\") as yaml_file:\n",
    "    data = yaml.load(yaml_file, Loader=NoDateLoader)"
   ]
  },
  {
   "cell_type": "code",
   "execution_count": null,
   "metadata": {},
   "outputs": [],
   "source": [
    "jsonschema.validate(data, schema)"
   ]
  },
  {
   "cell_type": "code",
   "execution_count": null,
   "metadata": {},
   "outputs": [],
   "source": []
  }
 ],
 "metadata": {
  "language_info": {
   "codemirror_mode": {
    "name": "ipython",
    "version": 3
   },
   "file_extension": ".py",
   "mimetype": "text/x-python",
   "name": "python",
   "nbconvert_exporter": "python",
   "pygments_lexer": "ipython3"
  }
 },
 "nbformat": 4,
 "nbformat_minor": 2
}
